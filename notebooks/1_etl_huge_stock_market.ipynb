{
 "cells": [
  {
   "cell_type": "code",
   "execution_count": 1,
   "metadata": {},
   "outputs": [],
   "source": [
    "import pandas as pd\n",
    "import os"
   ]
  },
  {
   "cell_type": "markdown",
   "metadata": {},
   "source": [
    "# Extract Data"
   ]
  },
  {
   "cell_type": "code",
   "execution_count": 2,
   "metadata": {},
   "outputs": [],
   "source": [
    "# Define path to the folder containing the files\n",
    "stock_path = os.path.join(\n",
    "    os.path.abspath('../'),\n",
    "    'data',\n",
    "    'raw',\n",
    "    'huge_stock_market_dataset',\n",
    "    'Stocks'\n",
    ")"
   ]
  },
  {
   "cell_type": "markdown",
   "metadata": {},
   "source": [
    "## From .txt files"
   ]
  },
  {
   "cell_type": "code",
   "execution_count": 3,
   "metadata": {},
   "outputs": [],
   "source": [
    "# # List the stock's files\n",
    "# stock_files = os.listdir(stock_path)"
   ]
  },
  {
   "cell_type": "code",
   "execution_count": 4,
   "metadata": {},
   "outputs": [],
   "source": [
    "# # Concatenate data from each .txt file\n",
    "# # Initialize DataFrame\n",
    "# df_stock_market = pd.DataFrame()\n",
    "\n",
    "# # Iterate through all files\n",
    "# for file in stock_files:\n",
    "#     print(file)\n",
    "\n",
    "#     try:\n",
    "#         # Read as csv\n",
    "#         df = pd.read_csv(\n",
    "#             os.path.join(stock_path, file)\n",
    "#         )\n",
    "\n",
    "#         # Set the stock (company ticker) from the file name\n",
    "#         df['Stock'] = file.split('.')[0].upper()\n",
    "\n",
    "#         # Concatenate with other stocks\n",
    "#         df_stock_market = pd.concat(\n",
    "#             [df_stock_market, df]\n",
    "#         )\n",
    "\n",
    "#     # If the file doesn't contain data, pass\n",
    "#     except pd.errors.EmptyDataError:\n",
    "#         pass"
   ]
  },
  {
   "cell_type": "code",
   "execution_count": 5,
   "metadata": {},
   "outputs": [],
   "source": [
    "# # Save the data within a single file\n",
    "# df_stock_market.to_csv(os.path.join(stock_path, '_all_stocks.csv'), sep=';', decimal=',', index=False)"
   ]
  },
  {
   "cell_type": "markdown",
   "metadata": {},
   "source": [
    "## Read the preprocessed file"
   ]
  },
  {
   "cell_type": "code",
   "execution_count": 6,
   "metadata": {},
   "outputs": [
    {
     "data": {
      "text/html": [
       "<div>\n",
       "<style scoped>\n",
       "    .dataframe tbody tr th:only-of-type {\n",
       "        vertical-align: middle;\n",
       "    }\n",
       "\n",
       "    .dataframe tbody tr th {\n",
       "        vertical-align: top;\n",
       "    }\n",
       "\n",
       "    .dataframe thead th {\n",
       "        text-align: right;\n",
       "    }\n",
       "</style>\n",
       "<table border=\"1\" class=\"dataframe\">\n",
       "  <thead>\n",
       "    <tr style=\"text-align: right;\">\n",
       "      <th></th>\n",
       "      <th>Date</th>\n",
       "      <th>Open</th>\n",
       "      <th>High</th>\n",
       "      <th>Low</th>\n",
       "      <th>Close</th>\n",
       "      <th>Volume</th>\n",
       "      <th>OpenInt</th>\n",
       "      <th>Stock</th>\n",
       "    </tr>\n",
       "  </thead>\n",
       "  <tbody>\n",
       "    <tr>\n",
       "      <th>0</th>\n",
       "      <td>1999-11-18</td>\n",
       "      <td>30.713</td>\n",
       "      <td>33.754</td>\n",
       "      <td>27.002</td>\n",
       "      <td>29.702</td>\n",
       "      <td>66277506</td>\n",
       "      <td>0</td>\n",
       "      <td>A</td>\n",
       "    </tr>\n",
       "    <tr>\n",
       "      <th>1</th>\n",
       "      <td>1999-11-19</td>\n",
       "      <td>28.986</td>\n",
       "      <td>29.027</td>\n",
       "      <td>26.872</td>\n",
       "      <td>27.257</td>\n",
       "      <td>16142920</td>\n",
       "      <td>0</td>\n",
       "      <td>A</td>\n",
       "    </tr>\n",
       "    <tr>\n",
       "      <th>2</th>\n",
       "      <td>1999-11-22</td>\n",
       "      <td>27.886</td>\n",
       "      <td>29.702</td>\n",
       "      <td>27.044</td>\n",
       "      <td>29.702</td>\n",
       "      <td>6970266</td>\n",
       "      <td>0</td>\n",
       "      <td>A</td>\n",
       "    </tr>\n",
       "    <tr>\n",
       "      <th>3</th>\n",
       "      <td>1999-11-23</td>\n",
       "      <td>28.688</td>\n",
       "      <td>29.446</td>\n",
       "      <td>27.002</td>\n",
       "      <td>27.002</td>\n",
       "      <td>6332082</td>\n",
       "      <td>0</td>\n",
       "      <td>A</td>\n",
       "    </tr>\n",
       "    <tr>\n",
       "      <th>4</th>\n",
       "      <td>1999-11-24</td>\n",
       "      <td>27.083</td>\n",
       "      <td>28.309</td>\n",
       "      <td>27.002</td>\n",
       "      <td>27.717</td>\n",
       "      <td>5132147</td>\n",
       "      <td>0</td>\n",
       "      <td>A</td>\n",
       "    </tr>\n",
       "  </tbody>\n",
       "</table>\n",
       "</div>"
      ],
      "text/plain": [
       "         Date    Open    High     Low   Close    Volume  OpenInt Stock\n",
       "0  1999-11-18  30.713  33.754  27.002  29.702  66277506        0     A\n",
       "1  1999-11-19  28.986  29.027  26.872  27.257  16142920        0     A\n",
       "2  1999-11-22  27.886  29.702  27.044  29.702   6970266        0     A\n",
       "3  1999-11-23  28.688  29.446  27.002  27.002   6332082        0     A\n",
       "4  1999-11-24  27.083  28.309  27.002  27.717   5132147        0     A"
      ]
     },
     "execution_count": 6,
     "metadata": {},
     "output_type": "execute_result"
    }
   ],
   "source": [
    "df_stock_market = pd.read_csv(\n",
    "    os.path.join(stock_path, '_all_stocks.csv'),\n",
    "    sep=';',\n",
    "    decimal=','\n",
    ")\n",
    "\n",
    "df_stock_market.head()"
   ]
  },
  {
   "cell_type": "markdown",
   "metadata": {},
   "source": [
    "# Transform"
   ]
  },
  {
   "cell_type": "code",
   "execution_count": 7,
   "metadata": {},
   "outputs": [
    {
     "name": "stdout",
     "output_type": "stream",
     "text": [
      "(10160, 4)\n"
     ]
    },
    {
     "data": {
      "text/html": [
       "<div>\n",
       "<style scoped>\n",
       "    .dataframe tbody tr th:only-of-type {\n",
       "        vertical-align: middle;\n",
       "    }\n",
       "\n",
       "    .dataframe tbody tr th {\n",
       "        vertical-align: top;\n",
       "    }\n",
       "\n",
       "    .dataframe thead th {\n",
       "        text-align: right;\n",
       "    }\n",
       "</style>\n",
       "<table border=\"1\" class=\"dataframe\">\n",
       "  <thead>\n",
       "    <tr style=\"text-align: right;\">\n",
       "      <th></th>\n",
       "      <th>Date</th>\n",
       "      <th>Close</th>\n",
       "      <th>Volume</th>\n",
       "      <th>Stock</th>\n",
       "    </tr>\n",
       "  </thead>\n",
       "  <tbody>\n",
       "    <tr>\n",
       "      <th>45077</th>\n",
       "      <td>2008-06-09</td>\n",
       "      <td>23.257</td>\n",
       "      <td>526264929</td>\n",
       "      <td>AAPL</td>\n",
       "    </tr>\n",
       "    <tr>\n",
       "      <th>45078</th>\n",
       "      <td>2008-06-10</td>\n",
       "      <td>23.774</td>\n",
       "      <td>318040510</td>\n",
       "      <td>AAPL</td>\n",
       "    </tr>\n",
       "    <tr>\n",
       "      <th>45079</th>\n",
       "      <td>2008-06-11</td>\n",
       "      <td>23.156</td>\n",
       "      <td>267941514</td>\n",
       "      <td>AAPL</td>\n",
       "    </tr>\n",
       "    <tr>\n",
       "      <th>45080</th>\n",
       "      <td>2008-06-12</td>\n",
       "      <td>22.189</td>\n",
       "      <td>364403085</td>\n",
       "      <td>AAPL</td>\n",
       "    </tr>\n",
       "    <tr>\n",
       "      <th>45081</th>\n",
       "      <td>2008-06-13</td>\n",
       "      <td>22.074</td>\n",
       "      <td>375180778</td>\n",
       "      <td>AAPL</td>\n",
       "    </tr>\n",
       "  </tbody>\n",
       "</table>\n",
       "</div>"
      ],
      "text/plain": [
       "             Date   Close     Volume Stock\n",
       "45077  2008-06-09  23.257  526264929  AAPL\n",
       "45078  2008-06-10  23.774  318040510  AAPL\n",
       "45079  2008-06-11  23.156  267941514  AAPL\n",
       "45080  2008-06-12  22.189  364403085  AAPL\n",
       "45081  2008-06-13  22.074  375180778  AAPL"
      ]
     },
     "execution_count": 7,
     "metadata": {},
     "output_type": "execute_result"
    }
   ],
   "source": [
    "# Set companies and columns to keep\n",
    "companies = [\n",
    "    'MSFT',\n",
    "    'AAPL',\n",
    "    'NVDA',\n",
    "    'GOOGL',\n",
    "    'AMZN'\n",
    "]\n",
    "\n",
    "cols = ['Date', 'Close', 'Volume', 'Stock']\n",
    "\n",
    "# Filter rows (companies and period) and columns\n",
    "df_stock_market_result = df_stock_market.loc[\n",
    "    (df_stock_market['Stock'].isin(companies))\n",
    "    & (df_stock_market['Date'].between('2008-06-08', '2016-07-01')),\n",
    "    cols\n",
    "]\n",
    "\n",
    "# Check the result\n",
    "print(df_stock_market_result.shape)\n",
    "df_stock_market_result.head()"
   ]
  },
  {
   "cell_type": "code",
   "execution_count": 8,
   "metadata": {},
   "outputs": [],
   "source": [
    "# Convert Date colum to datetime\n",
    "df_stock_market_result['Date'] = pd.to_datetime(df_stock_market_result['Date'])"
   ]
  },
  {
   "cell_type": "markdown",
   "metadata": {},
   "source": [
    "# Load"
   ]
  },
  {
   "cell_type": "code",
   "execution_count": 9,
   "metadata": {},
   "outputs": [],
   "source": [
    "df_stock_market_result.to_csv(\n",
    "    os.path.join(\n",
    "        os.path.abspath('../'),\n",
    "        'data',\n",
    "        'processed',\n",
    "        'stock_market_dataset.csv'\n",
    "    )\n",
    ")"
   ]
  }
 ],
 "metadata": {
  "kernelspec": {
   "display_name": "stocks_vs_behavior",
   "language": "python",
   "name": "python3"
  },
  "language_info": {
   "codemirror_mode": {
    "name": "ipython",
    "version": 3
   },
   "file_extension": ".py",
   "mimetype": "text/x-python",
   "name": "python",
   "nbconvert_exporter": "python",
   "pygments_lexer": "ipython3",
   "version": "3.10.6"
  }
 },
 "nbformat": 4,
 "nbformat_minor": 2
}
