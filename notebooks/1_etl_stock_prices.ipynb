{
 "cells": [
  {
   "cell_type": "code",
   "execution_count": 15,
   "metadata": {},
   "outputs": [],
   "source": [
    "# Import packages\n",
    "import pandas as pd\n",
    "import requests\n",
    "import os"
   ]
  },
  {
   "cell_type": "code",
   "execution_count": null,
   "metadata": {},
   "outputs": [],
   "source": [
    "# Define api key\n",
    "API_KEY = ''\n",
    "\n",
    "\n",
    "# Define path to ./data/processed/ folder\n",
    "path_processed_data = os.path.join(\n",
    "    os.path.abspath('../'),\n",
    "    'data',\n",
    "    'processed',\n",
    "    'stock_prices_appl.csv'\n",
    ")"
   ]
  },
  {
   "cell_type": "code",
   "execution_count": null,
   "metadata": {},
   "outputs": [],
   "source": [
    "def extract_stock_prices(symbol, api_key):\n",
    "    # Initialize variables\n",
    "    to_date = '2016-07-01'\n",
    "    df_result = pd.DataFrame()\n",
    "\n",
    "    # Iterate\n",
    "    for i in range(0, 100):\n",
    "        # If date is after the min date, continue\n",
    "        if to_date > '2008-06-08':\n",
    "            # Send request\n",
    "            req = requests.get(\n",
    "                f'https://financialmodelingprep.com/api/v3/historical-chart/1hour/{symbol}?from=2008-06-08&to={to_date}&apikey={api_key}'\n",
    "            )\n",
    "\n",
    "            # Convert into dataframe\n",
    "            df = pd.DataFrame(req.json())\n",
    "\n",
    "            # Concatenate result\n",
    "            df_result = pd.concat([df_result, df])\n",
    "\n",
    "            # Set next to_date. 1 day before the min date in the dataframe\n",
    "            # The results are in descending order\n",
    "            to_date = (\n",
    "                pd.to_datetime(df_result['date']).dt.date.min()\n",
    "                - pd.DateOffset(days=1)\n",
    "            ).strftime('%Y-%m-%d')\n",
    "\n",
    "        else:\n",
    "            break\n",
    "\n",
    "    # Rename columns\n",
    "    df_result.rename(\n",
    "        {\n",
    "            'date': 'Date',\n",
    "            'close': 'Close',\n",
    "            'volume': 'Volume',\n",
    "            'stock': 'Stock'\n",
    "        },\n",
    "        axis=1,\n",
    "        inplace=True\n",
    "    )\n",
    "\n",
    "    # Add Stock column\n",
    "    df_result['Stock'] = symbol\n",
    "\n",
    "    # Set columns to keep\n",
    "    cols = ['Date', 'Close', 'Volume', 'Stock']\n",
    "\n",
    "    # Filter rows (companies and period) and columns\n",
    "    df_result = df_result.loc[\n",
    "        (df_result['Date'].between('2008-06-08', '2016-07-01')),\n",
    "        cols\n",
    "    ]\n",
    "\n",
    "    return df_result"
   ]
  },
  {
   "cell_type": "markdown",
   "metadata": {},
   "source": [
    "# Stocks"
   ]
  },
  {
   "cell_type": "markdown",
   "metadata": {},
   "source": [
    "## AAPL"
   ]
  },
  {
   "cell_type": "code",
   "execution_count": 73,
   "metadata": {},
   "outputs": [
    {
     "name": "stdout",
     "output_type": "stream",
     "text": [
      "2010-02-17\n",
      "2009-11-19\n",
      "2009-08-23\n",
      "2009-05-25\n",
      "2009-02-24\n",
      "2008-11-27\n",
      "2008-09-01\n",
      "2008-06-08\n"
     ]
    }
   ],
   "source": [
    "symbols = [\n",
    "    # 'AAPL',\n",
    "    'MSFT',\n",
    "    'NVDA',\n",
    "    'GOOGL',\n",
    "    'AMZN'\n",
    "]\n",
    "\n",
    "for symbol in symbols:\n",
    "    # Extract AAPL stock prices\n",
    "    df = extract_stock_prices(symbol, api_key=API_KEY)\n",
    "\n",
    "    # Save\n",
    "    df.to_csv(\n",
    "        os.path.join(\n",
    "            path_processed_data,\n",
    "            f'stock_prices_{symbol.lower()}.csv'\n",
    "        ),\n",
    "        index=False\n",
    "    )"
   ]
  },
  {
   "cell_type": "markdown",
   "metadata": {},
   "source": [
    "# News"
   ]
  },
  {
   "cell_type": "code",
   "execution_count": null,
   "metadata": {},
   "outputs": [],
   "source": [
    "api_key = ''\n",
    "for i in range(0, 10):\n",
    "    if to_date > '2008-06-08':\n",
    "        req = requests.get(\n",
    "            f'https://financialmodelingprep.com/api/v3/historical-chart/1hour/AAPL?from=2008-06-08&to={to_date}&apikey={api_key}'\n",
    "        )\n",
    "\n",
    "        df = pd.DataFrame(req.json())\n",
    "\n",
    "        df_result2 = pd.concat([df_result2, df])\n",
    "\n",
    "        to_date = (pd.to_datetime(df_result2['date']).dt.date.min() - pd.DateOffset(days=1)).strftime('%Y-%m-%d')\n",
    "        print(to_date)"
   ]
  },
  {
   "cell_type": "code",
   "execution_count": null,
   "metadata": {},
   "outputs": [],
   "source": []
  }
 ],
 "metadata": {
  "kernelspec": {
   "display_name": "stocks_vs_behavior",
   "language": "python",
   "name": "python3"
  },
  "language_info": {
   "codemirror_mode": {
    "name": "ipython",
    "version": 3
   },
   "file_extension": ".py",
   "mimetype": "text/x-python",
   "name": "python",
   "nbconvert_exporter": "python",
   "pygments_lexer": "ipython3",
   "version": "3.10.6"
  }
 },
 "nbformat": 4,
 "nbformat_minor": 2
}
