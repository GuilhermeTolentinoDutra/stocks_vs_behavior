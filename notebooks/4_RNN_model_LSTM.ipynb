{
 "cells": [
  {
   "cell_type": "code",
   "execution_count": 14,
   "metadata": {},
   "outputs": [],
   "source": [
    "# Import packages\n",
    "import pandas as pd\n",
    "import numpy as np\n",
    "import os\n",
    "\n",
    "from sklearn.preprocessing import MinMaxScaler\n",
    "from sklearn.metrics import r2_score\n",
    "\n",
    "from tensorflow.keras.preprocessing.sequence import pad_sequences\n",
    "from tensorflow.keras import Sequential, layers\n",
    "from tensorflow.keras import metrics\n",
    "from tensorflow.keras.callbacks import EarlyStopping\n",
    "\n",
    "import seaborn as sns"
   ]
  },
  {
   "cell_type": "code",
   "execution_count": 15,
   "metadata": {},
   "outputs": [],
   "source": [
    "# Path to ./data/processed folder\n",
    "path_data_processed = os.path.join(\n",
    "    os.path.abspath('../'),\n",
    "    'data',\n",
    "    'processed'\n",
    ")"
   ]
  },
  {
   "cell_type": "markdown",
   "metadata": {},
   "source": [
    "# Load Data"
   ]
  },
  {
   "cell_type": "code",
   "execution_count": 16,
   "metadata": {},
   "outputs": [],
   "source": [
    "# Read dataset with AAPL's historic stock prices\n",
    "df_stocks = pd.read_csv(\n",
    "    os.path.join(\n",
    "        path_data_processed,\n",
    "        'stock_prices_appl.csv'\n",
    "    ),\n",
    "    index_col=0\n",
    ")\n",
    "\n",
    "# Apply pivot_table\n",
    "df_stocks = df_stocks.pivot_table(\n",
    "    values='Close',\n",
    "    index='Date',\n",
    "    columns='Stock'\n",
    ").reset_index(drop=False)"
   ]
  },
  {
   "cell_type": "code",
   "execution_count": 17,
   "metadata": {},
   "outputs": [],
   "source": [
    "# Read dataset with News' score\n",
    "df_agg = pd.read_csv(\n",
    "    os.path.join(\n",
    "        path_data_processed,\n",
    "        'reddit_news_avg_score_per_label.csv'\n",
    "    )\n",
    ")"
   ]
  },
  {
   "cell_type": "code",
   "execution_count": 18,
   "metadata": {},
   "outputs": [],
   "source": [
    "# Merge both dataframes on date\n",
    "df = df_stocks.merge(df_agg, on='Date', how='left')\n",
    "\n",
    "# Create target column by shifting stock prices\n",
    "df[f'AAPL_target'] = df['AAPL'].shift(1)"
   ]
  },
  {
   "cell_type": "markdown",
   "metadata": {},
   "source": [
    "# Data Preparation"
   ]
  },
  {
   "cell_type": "code",
   "execution_count": 19,
   "metadata": {},
   "outputs": [],
   "source": [
    "# Drop columns\n",
    "data = df.drop([\n",
    "    'Date',\n",
    "    'AMZN',\n",
    "    'GOOGL',\n",
    "    'MSFT',\n",
    "    'NVDA'\n",
    "    ], axis=1)\n",
    "\n",
    "# Fill NaN with 0, because there wasn't any news with this label\n",
    "data['positive'] = data['positive'].fillna(0)\n",
    "data['negative'] = data['negative'].fillna(0)\n",
    "\n",
    "# Drop null values\n",
    "data = data.dropna()"
   ]
  },
  {
   "cell_type": "markdown",
   "metadata": {},
   "source": [
    "## Train-Test Split"
   ]
  },
  {
   "cell_type": "code",
   "execution_count": 20,
   "metadata": {},
   "outputs": [],
   "source": [
    "# Set train percentage\n",
    "train_percentage = 0.95\n",
    "\n",
    "# Compute lenght of train dataframe\n",
    "train_len = int(len(data) * train_percentage)"
   ]
  },
  {
   "cell_type": "code",
   "execution_count": 21,
   "metadata": {},
   "outputs": [],
   "source": [
    "# Create data_train and data_test:\n",
    "df_train = data.iloc[:train_len]\n",
    "df_test = data.iloc[train_len:]"
   ]
  },
  {
   "cell_type": "code",
   "execution_count": 22,
   "metadata": {},
   "outputs": [
    {
     "data": {
      "text/plain": [
       "<Axes: xlabel='AAPL_target'>"
      ]
     },
     "execution_count": 22,
     "metadata": {},
     "output_type": "execute_result"
    },
    {
     "data": {
      "image/png": "[encoded data removed]",
      "text/plain": [
       "<Figure size 640x480 with 1 Axes>"
      ]
     },
     "metadata": {},
     "output_type": "display_data"
    }
   ],
   "source": [
    "sns.boxplot(data=data, x='AAPL_target')"
   ]
  },
  {
   "cell_type": "markdown",
   "metadata": {},
   "source": [
    "## Scaling\n",
    "Transforming numerical features into a common smaller range"
   ]
  },
  {
   "cell_type": "code",
   "execution_count": 23,
   "metadata": {},
   "outputs": [
    {
     "name": "stderr",
     "output_type": "stream",
     "text": [
      "/tmp/ipykernel_305805/1299088375.py:21: SettingWithCopyWarning: \n",
      "A value is trying to be set on a copy of a slice from a DataFrame.\n",
      "Try using .loc[row_indexer,col_indexer] = value instead\n",
      "\n",
      "See the caveats in the documentation: https://pandas.pydata.org/pandas-docs/stable/user_guide/indexing.html#returning-a-view-versus-a-copy\n",
      "  df_train[target] = target_scaler.transform(df_train[target])\n",
      "/tmp/ipykernel_305805/1299088375.py:22: SettingWithCopyWarning: \n",
      "A value is trying to be set on a copy of a slice from a DataFrame.\n",
      "Try using .loc[row_indexer,col_indexer] = value instead\n",
      "\n",
      "See the caveats in the documentation: https://pandas.pydata.org/pandas-docs/stable/user_guide/indexing.html#returning-a-view-versus-a-copy\n",
      "  df_test[target] = target_scaler.transform(df_test[target])\n",
      "/tmp/ipykernel_305805/1299088375.py:25: SettingWithCopyWarning: \n",
      "A value is trying to be set on a copy of a slice from a DataFrame.\n",
      "Try using .loc[row_indexer,col_indexer] = value instead\n",
      "\n",
      "See the caveats in the documentation: https://pandas.pydata.org/pandas-docs/stable/user_guide/indexing.html#returning-a-view-versus-a-copy\n",
      "  df_train[features_scale] = features_scaler.transform(df_train[features_scale])\n",
      "/tmp/ipykernel_305805/1299088375.py:26: SettingWithCopyWarning: \n",
      "A value is trying to be set on a copy of a slice from a DataFrame.\n",
      "Try using .loc[row_indexer,col_indexer] = value instead\n",
      "\n",
      "See the caveats in the documentation: https://pandas.pydata.org/pandas-docs/stable/user_guide/indexing.html#returning-a-view-versus-a-copy\n",
      "  df_test[features_scale] = features_scaler.transform(df_test[features_scale])\n"
     ]
    }
   ],
   "source": [
    "# Define features to be scaled\n",
    "features_scale = ['AAPL']\n",
    "\n",
    "# Define target columns\n",
    "target = ['AAPL_target']\n",
    "\n",
    "# Train MinMaxScaler to apply on the target columns\n",
    "target_scaler = MinMaxScaler().fit(df_train[target])\n",
    "\n",
    "# Apply scaler on train and test dataframes\n",
    "df_train[target] = target_scaler.transform(df_train[target])\n",
    "df_test[target] = target_scaler.transform(df_test[target])\n",
    "\n",
    "# Train MinMaxScaler to apply on the feature columns\n",
    "features_scaler = MinMaxScaler().fit(df_train[features_scale])\n",
    "\n",
    "# Apply scaler on train and test dataframes\n",
    "df_train[features_scale] = features_scaler.transform(df_train[features_scale])\n",
    "df_test[features_scale] = features_scaler.transform(df_test[features_scale])"
   ]
  },
  {
   "cell_type": "markdown",
   "metadata": {},
   "source": [
    "## Subsequences"
   ]
  },
  {
   "cell_type": "code",
   "execution_count": 25,
   "metadata": {},
   "outputs": [],
   "source": [
    "# Define funtion to create subsequences\n",
    "def subsequence(df, length, features, target):\n",
    "    # Initialize variables\n",
    "    X, y = [], []\n",
    "\n",
    "    # Iterate over the dataframe to create subsequences\n",
    "    for i in range(length, df.shape[0]):\n",
    "        X.append(df[features].iloc[i - length: i])\n",
    "        y.append(df[target].iloc[i])\n",
    "\n",
    "    # Convert X and y into arrays\n",
    "    X = np.array(X)\n",
    "    y = np.expand_dims(\n",
    "        np.array(y).astype(np.float32),\n",
    "        axis=-1\n",
    "    )\n",
    "\n",
    "    return X, y"
   ]
  },
  {
   "cell_type": "code",
   "execution_count": null,
   "metadata": {},
   "outputs": [],
   "source": [
    "# Create subsequence with 5 business days X 4 weeks X 3 months\n",
    "length = 5 * 4 * 3\n",
    "\n",
    "features = [\n",
    "    'AAPL',\n",
    "    'negative',\n",
    "    'neutral',\n",
    "    'positive'\n",
    "]\n",
    "\n",
    "# Create train subsequences\n",
    "X_train, y_train = subsequence(df_train, length, features, target)\n",
    "\n",
    "# Create test subsequences\n",
    "X_test, y_test = subsequence(df_test, length, features, target)"
   ]
  },
  {
   "cell_type": "markdown",
   "metadata": {},
   "source": [
    "# RNN Model"
   ]
  },
  {
   "cell_type": "code",
   "execution_count": 30,
   "metadata": {},
   "outputs": [],
   "source": [
    "# Padding train and test\n",
    "X_train_pad = pad_sequences(X_train, value=-999, padding='post', dtype='float64')\n",
    "X_test_pad = pad_sequences(X_test, value=-999, padding='post', dtype='float64')"
   ]
  },
  {
   "cell_type": "code",
   "execution_count": 31,
   "metadata": {},
   "outputs": [
    {
     "name": "stderr",
     "output_type": "stream",
     "text": [
      "/home/nathalia/.pyenv/versions/3.10.6/envs/stocks_vs_behavior/lib/python3.10/site-packages/keras/src/layers/rnn/rnn.py:204: UserWarning: Do not pass an `input_shape`/`input_dim` argument to a layer. When using Sequential models, prefer using an `Input(shape)` object as the first layer in the model instead.\n",
      "  super().__init__(**kwargs)\n"
     ]
    }
   ],
   "source": [
    "# Build the model\n",
    "def rnn_model():\n",
    "    model = Sequential()\n",
    "\n",
    "    model.add(layers.Masking(mask_value=-999))\n",
    "\n",
    "    model.add(\n",
    "        layers.LSTM(\n",
    "            units=128,\n",
    "            return_sequences = True,\n",
    "            activation = \"tanh\",\n",
    "            input_shape = X_train_pad[0].shape\n",
    "        )\n",
    "    )\n",
    "\n",
    "    model.add(\n",
    "        layers.LSTM(\n",
    "            units=64,\n",
    "            return_sequences = False,\n",
    "            activation = \"tanh\"\n",
    "        )\n",
    "    )\n",
    "\n",
    "    model.add(layers.Dense(25, activation=\"relu\"))\n",
    "\n",
    "    model.add(layers.Dense(1, activation=\"relu\"))\n",
    "\n",
    "    my_mae = metrics.MeanAbsoluteError(name='mean_absolute_error', dtype=None)\n",
    "\n",
    "    model.compile(\n",
    "        loss=\"mse\",\n",
    "        optimizer = \"rmsprop\",\n",
    "        metrics = [my_mae, 'accuracy']\n",
    "    )\n",
    "\n",
    "    return model\n",
    "\n",
    "model = rnn_model()"
   ]
  },
  {
   "cell_type": "code",
   "execution_count": 32,
   "metadata": {},
   "outputs": [
    {
     "name": "stdout",
     "output_type": "stream",
     "text": [
      "Epoch 1/300\n"
     ]
    },
    {
     "name": "stderr",
     "output_type": "stream",
     "text": [
      "2024-06-08 12:32:01.082677: E tensorflow/core/util/util.cc:131] oneDNN supports DT_BOOL only on platforms with AVX-512. Falling back to the default Eigen-based implementation if present.\n"
     ]
    },
    {
     "name": "stdout",
     "output_type": "stream",
     "text": [
      "\u001b[1m82/82\u001b[0m \u001b[32m━━━━━━━━━━━━━━━━━━━━\u001b[0m\u001b[37m\u001b[0m \u001b[1m19s\u001b[0m 159ms/step - accuracy: 0.0011 - loss: 0.0433 - mean_absolute_error: 0.1721 - val_accuracy: 0.0000e+00 - val_loss: 0.1891 - val_mean_absolute_error: 0.4093\n",
      "Epoch 2/300\n",
      "\u001b[1m82/82\u001b[0m \u001b[32m━━━━━━━━━━━━━━━━━━━━\u001b[0m\u001b[37m\u001b[0m \u001b[1m12s\u001b[0m 141ms/step - accuracy: 5.4499e-04 - loss: 0.0350 - mean_absolute_error: 0.1576 - val_accuracy: 0.0000e+00 - val_loss: 0.1963 - val_mean_absolute_error: 0.4188\n",
      "Epoch 3/300\n",
      "\u001b[1m82/82\u001b[0m \u001b[32m━━━━━━━━━━━━━━━━━━━━\u001b[0m\u001b[37m\u001b[0m \u001b[1m12s\u001b[0m 141ms/step - accuracy: 6.0294e-04 - loss: 0.0357 - mean_absolute_error: 0.1600 - val_accuracy: 0.0000e+00 - val_loss: 0.2067 - val_mean_absolute_error: 0.4304\n",
      "Epoch 4/300\n",
      "\u001b[1m82/82\u001b[0m \u001b[32m━━━━━━━━━━━━━━━━━━━━\u001b[0m\u001b[37m\u001b[0m \u001b[1m12s\u001b[0m 142ms/step - accuracy: 0.0017 - loss: 0.0342 - mean_absolute_error: 0.1553 - val_accuracy: 0.0000e+00 - val_loss: 0.1628 - val_mean_absolute_error: 0.3764\n",
      "Epoch 5/300\n",
      "\u001b[1m82/82\u001b[0m \u001b[32m━━━━━━━━━━━━━━━━━━━━\u001b[0m\u001b[37m\u001b[0m \u001b[1m12s\u001b[0m 141ms/step - accuracy: 3.6406e-04 - loss: 0.0346 - mean_absolute_error: 0.1576 - val_accuracy: 0.0000e+00 - val_loss: 0.2182 - val_mean_absolute_error: 0.4438\n",
      "Epoch 6/300\n",
      "\u001b[1m82/82\u001b[0m \u001b[32m━━━━━━━━━━━━━━━━━━━━\u001b[0m\u001b[37m\u001b[0m \u001b[1m11s\u001b[0m 140ms/step - accuracy: 2.9429e-04 - loss: 0.0335 - mean_absolute_error: 0.1553 - val_accuracy: 0.0000e+00 - val_loss: 0.1915 - val_mean_absolute_error: 0.4123\n",
      "Epoch 7/300\n",
      "\u001b[1m82/82\u001b[0m \u001b[32m━━━━━━━━━━━━━━━━━━━━\u001b[0m\u001b[37m\u001b[0m \u001b[1m12s\u001b[0m 140ms/step - accuracy: 8.9332e-04 - loss: 0.0348 - mean_absolute_error: 0.1582 - val_accuracy: 0.0000e+00 - val_loss: 0.2374 - val_mean_absolute_error: 0.4643\n",
      "Epoch 8/300\n",
      "\u001b[1m82/82\u001b[0m \u001b[32m━━━━━━━━━━━━━━━━━━━━\u001b[0m\u001b[37m\u001b[0m \u001b[1m12s\u001b[0m 146ms/step - accuracy: 0.0011 - loss: 0.0334 - mean_absolute_error: 0.1542 - val_accuracy: 0.0000e+00 - val_loss: 0.2339 - val_mean_absolute_error: 0.4599\n",
      "Epoch 9/300\n",
      "\u001b[1m82/82\u001b[0m \u001b[32m━━━━━━━━━━━━━━━━━━━━\u001b[0m\u001b[37m\u001b[0m \u001b[1m12s\u001b[0m 144ms/step - accuracy: 9.8756e-04 - loss: 0.0340 - mean_absolute_error: 0.1560 - val_accuracy: 0.0000e+00 - val_loss: 0.2334 - val_mean_absolute_error: 0.4601\n",
      "Epoch 10/300\n",
      "\u001b[1m82/82\u001b[0m \u001b[32m━━━━━━━━━━━━━━━━━━━━\u001b[0m\u001b[37m\u001b[0m \u001b[1m11s\u001b[0m 140ms/step - accuracy: 7.5851e-04 - loss: 0.0334 - mean_absolute_error: 0.1554 - val_accuracy: 0.0000e+00 - val_loss: 0.2583 - val_mean_absolute_error: 0.4867\n",
      "Epoch 11/300\n",
      "\u001b[1m82/82\u001b[0m \u001b[32m━━━━━━━━━━━━━━━━━━━━\u001b[0m\u001b[37m\u001b[0m \u001b[1m12s\u001b[0m 140ms/step - accuracy: 1.1699e-04 - loss: 0.0335 - mean_absolute_error: 0.1545 - val_accuracy: 0.0000e+00 - val_loss: 0.2473 - val_mean_absolute_error: 0.4749\n",
      "Epoch 12/300\n",
      "\u001b[1m82/82\u001b[0m \u001b[32m━━━━━━━━━━━━━━━━━━━━\u001b[0m\u001b[37m\u001b[0m \u001b[1m11s\u001b[0m 140ms/step - accuracy: 2.1830e-04 - loss: 0.0343 - mean_absolute_error: 0.1566 - val_accuracy: 0.0000e+00 - val_loss: 0.2520 - val_mean_absolute_error: 0.4798\n",
      "Epoch 13/300\n",
      "\u001b[1m82/82\u001b[0m \u001b[32m━━━━━━━━━━━━━━━━━━━━\u001b[0m\u001b[37m\u001b[0m \u001b[1m11s\u001b[0m 138ms/step - accuracy: 0.0018 - loss: 0.0352 - mean_absolute_error: 0.1608 - val_accuracy: 0.0000e+00 - val_loss: 0.2342 - val_mean_absolute_error: 0.4610\n",
      "Epoch 14/300\n",
      "\u001b[1m82/82\u001b[0m \u001b[32m━━━━━━━━━━━━━━━━━━━━\u001b[0m\u001b[37m\u001b[0m \u001b[1m11s\u001b[0m 136ms/step - accuracy: 7.8361e-04 - loss: 0.0356 - mean_absolute_error: 0.1603 - val_accuracy: 0.0000e+00 - val_loss: 0.2369 - val_mean_absolute_error: 0.4644\n",
      "Epoch 15/300\n",
      "\u001b[1m82/82\u001b[0m \u001b[32m━━━━━━━━━━━━━━━━━━━━\u001b[0m\u001b[37m\u001b[0m \u001b[1m11s\u001b[0m 139ms/step - accuracy: 0.0016 - loss: 0.0328 - mean_absolute_error: 0.1522 - val_accuracy: 0.0000e+00 - val_loss: 0.2140 - val_mean_absolute_error: 0.4392\n",
      "Epoch 16/300\n",
      "\u001b[1m82/82\u001b[0m \u001b[32m━━━━━━━━━━━━━━━━━━━━\u001b[0m\u001b[37m\u001b[0m \u001b[1m11s\u001b[0m 137ms/step - accuracy: 2.5534e-04 - loss: 0.0328 - mean_absolute_error: 0.1520 - val_accuracy: 0.0000e+00 - val_loss: 0.2089 - val_mean_absolute_error: 0.4326\n",
      "Epoch 17/300\n",
      "\u001b[1m82/82\u001b[0m \u001b[32m━━━━━━━━━━━━━━━━━━━━\u001b[0m\u001b[37m\u001b[0m \u001b[1m11s\u001b[0m 137ms/step - accuracy: 5.4499e-04 - loss: 0.0342 - mean_absolute_error: 0.1561 - val_accuracy: 0.0000e+00 - val_loss: 0.1875 - val_mean_absolute_error: 0.4073\n",
      "Epoch 18/300\n",
      "\u001b[1m82/82\u001b[0m \u001b[32m━━━━━━━━━━━━━━━━━━━━\u001b[0m\u001b[37m\u001b[0m \u001b[1m11s\u001b[0m 138ms/step - accuracy: 8.0958e-04 - loss: 0.0323 - mean_absolute_error: 0.1513 - val_accuracy: 0.0000e+00 - val_loss: 0.2295 - val_mean_absolute_error: 0.4556\n",
      "Epoch 19/300\n",
      "\u001b[1m82/82\u001b[0m \u001b[32m━━━━━━━━━━━━━━━━━━━━\u001b[0m\u001b[37m\u001b[0m \u001b[1m11s\u001b[0m 138ms/step - accuracy: 0.0026 - loss: 0.0323 - mean_absolute_error: 0.1514 - val_accuracy: 0.0000e+00 - val_loss: 0.2081 - val_mean_absolute_error: 0.4317\n",
      "Epoch 20/300\n",
      "\u001b[1m82/82\u001b[0m \u001b[32m━━━━━━━━━━━━━━━━━━━━\u001b[0m\u001b[37m\u001b[0m \u001b[1m12s\u001b[0m 151ms/step - accuracy: 0.0014 - loss: 0.0334 - mean_absolute_error: 0.1548 - val_accuracy: 0.0000e+00 - val_loss: 0.2540 - val_mean_absolute_error: 0.4815\n",
      "Epoch 21/300\n",
      "\u001b[1m82/82\u001b[0m \u001b[32m━━━━━━━━━━━━━━━━━━━━\u001b[0m\u001b[37m\u001b[0m \u001b[1m11s\u001b[0m 139ms/step - accuracy: 3.7883e-04 - loss: 0.0340 - mean_absolute_error: 0.1564 - val_accuracy: 0.0000e+00 - val_loss: 0.1930 - val_mean_absolute_error: 0.4138\n",
      "Epoch 22/300\n",
      "\u001b[1m82/82\u001b[0m \u001b[32m━━━━━━━━━━━━━━━━━━━━\u001b[0m\u001b[37m\u001b[0m \u001b[1m11s\u001b[0m 137ms/step - accuracy: 9.8756e-04 - loss: 0.0343 - mean_absolute_error: 0.1563 - val_accuracy: 0.0000e+00 - val_loss: 0.2052 - val_mean_absolute_error: 0.4284\n",
      "Epoch 23/300\n",
      "\u001b[1m82/82\u001b[0m \u001b[32m━━━━━━━━━━━━━━━━━━━━\u001b[0m\u001b[37m\u001b[0m \u001b[1m11s\u001b[0m 139ms/step - accuracy: 2.6810e-04 - loss: 0.0330 - mean_absolute_error: 0.1541 - val_accuracy: 0.0000e+00 - val_loss: 0.2332 - val_mean_absolute_error: 0.4600\n",
      "Epoch 24/300\n",
      "\u001b[1m82/82\u001b[0m \u001b[32m━━━━━━━━━━━━━━━━━━━━\u001b[0m\u001b[37m\u001b[0m \u001b[1m11s\u001b[0m 140ms/step - accuracy: 9.2344e-04 - loss: 0.0337 - mean_absolute_error: 0.1550 - val_accuracy: 0.0000e+00 - val_loss: 0.2230 - val_mean_absolute_error: 0.4486\n",
      "Epoch 25/300\n",
      "\u001b[1m82/82\u001b[0m \u001b[32m━━━━━━━━━━━━━━━━━━━━\u001b[0m\u001b[37m\u001b[0m \u001b[1m11s\u001b[0m 138ms/step - accuracy: 6.2329e-04 - loss: 0.0353 - mean_absolute_error: 0.1588 - val_accuracy: 0.0000e+00 - val_loss: 0.2107 - val_mean_absolute_error: 0.4342\n",
      "Epoch 26/300\n",
      "\u001b[1m82/82\u001b[0m \u001b[32m━━━━━━━━━━━━━━━━━━━━\u001b[0m\u001b[37m\u001b[0m \u001b[1m11s\u001b[0m 137ms/step - accuracy: 2.5534e-04 - loss: 0.0331 - mean_absolute_error: 0.1550 - val_accuracy: 0.0000e+00 - val_loss: 0.2352 - val_mean_absolute_error: 0.4619\n",
      "Epoch 27/300\n",
      "\u001b[1m82/82\u001b[0m \u001b[32m━━━━━━━━━━━━━━━━━━━━\u001b[0m\u001b[37m\u001b[0m \u001b[1m11s\u001b[0m 136ms/step - accuracy: 1.8299e-04 - loss: 0.0331 - mean_absolute_error: 0.1537 - val_accuracy: 0.0000e+00 - val_loss: 0.2299 - val_mean_absolute_error: 0.4557\n",
      "Epoch 28/300\n",
      "\u001b[1m82/82\u001b[0m \u001b[32m━━━━━━━━━━━━━━━━━━━━\u001b[0m\u001b[37m\u001b[0m \u001b[1m11s\u001b[0m 135ms/step - accuracy: 0.0018 - loss: 0.0324 - mean_absolute_error: 0.1520 - val_accuracy: 0.0000e+00 - val_loss: 0.2165 - val_mean_absolute_error: 0.4412\n",
      "Epoch 29/300\n",
      "\u001b[1m82/82\u001b[0m \u001b[32m━━━━━━━━━━━━━━━━━━━━\u001b[0m\u001b[37m\u001b[0m \u001b[1m11s\u001b[0m 136ms/step - accuracy: 0.0017 - loss: 0.0340 - mean_absolute_error: 0.1557 - val_accuracy: 0.0000e+00 - val_loss: 0.2370 - val_mean_absolute_error: 0.4638\n",
      "CPU times: user 13min 40s, sys: 6min 19s, total: 19min 59s\n",
      "Wall time: 5min 40s\n"
     ]
    }
   ],
   "source": [
    "%%time\n",
    "\n",
    "es = EarlyStopping(patience = 25, monitor = \"val_mean_absolute_error\")\n",
    "\n",
    "history = model.fit(\n",
    "    X_train_pad,\n",
    "    # np.array(y_train),\n",
    "    np.expand_dims(np.array(y_train), -1),\n",
    "    validation_split = 0.3,\n",
    "    batch_size=16,\n",
    "    epochs=300,\n",
    "    verbose = 1,\n",
    "    callbacks = [es],\n",
    ")"
   ]
  },
  {
   "cell_type": "code",
   "execution_count": 35,
   "metadata": {},
   "outputs": [
    {
     "name": "stdout",
     "output_type": "stream",
     "text": [
      "accuracy  =  0.0007645260193385184\n",
      "loss  =  0.03383500668509253\n",
      "mean_absolute_error  =  0.15537569800327564\n",
      "val_accuracy  =  0.0\n",
      "val_loss  =  0.2201363156581747\n",
      "val_mean_absolute_error  =  0.44474604931370965\n"
     ]
    }
   ],
   "source": [
    "for i in history.history.keys():\n",
    "    value = np.mean(history.history[i])\n",
    "    print(i, \" = \", value)"
   ]
  },
  {
   "cell_type": "code",
   "execution_count": 37,
   "metadata": {},
   "outputs": [],
   "source": [
    "def plot_loss_mae(history):\n",
    "\n",
    "    fig, ax =plt.subplots(1,2,figsize=(20,5))\n",
    "\n",
    "    # --- LOSS\n",
    "\n",
    "    ax[0].plot(history.history['loss'])\n",
    "    ax[0].plot(history.history['val_loss'])\n",
    "    ax[0].set_title('Model loss')\n",
    "    ax[0].set_xlabel('Epoch')\n",
    "    ax[0].set_ylabel('Loss')\n",
    "    ax[0].legend(['Train', 'Val'], loc='upper right')\n",
    "    ax[0].grid(axis=\"x\",linewidth=0.5)\n",
    "    ax[0].grid(axis=\"y\",linewidth=0.5)\n",
    "\n",
    "    # --- MAE\n",
    "\n",
    "    ax[1].plot(history.history['mean_absolute_error'])\n",
    "    ax[1].plot(history.history['val_mean_absolute_error'])\n",
    "    ax[1].set_title('Model MAE', fontsize = 18)\n",
    "    ax[1].set_xlabel('Epoch', fontsize = 14)\n",
    "    ax[1].set_ylabel('Recall', fontsize = 14)\n",
    "    ax[1].legend(['Train', 'Val'], loc='lower right')\n",
    "    ax[1].grid(axis=\"x\",linewidth=0.5)\n",
    "    ax[1].grid(axis=\"y\",linewidth=0.5)\n",
    "\n",
    "    plt.show()"
   ]
  },
  {
   "cell_type": "code",
   "execution_count": 38,
   "metadata": {},
   "outputs": [
    {
     "data": {
      "image/png": "[encoded data removed]",
      "text/plain": [
       "<Figure size 2000x500 with 2 Axes>"
      ]
     },
     "metadata": {},
     "output_type": "display_data"
    }
   ],
   "source": [
    "plot_loss_mae(history)"
   ]
  },
  {
   "cell_type": "code",
   "execution_count": 53,
   "metadata": {},
   "outputs": [
    {
     "name": "stdout",
     "output_type": "stream",
     "text": [
      "\u001b[1m32/32\u001b[0m \u001b[32m━━━━━━━━━━━━━━━━━━━━\u001b[0m\u001b[37m\u001b[0m \u001b[1m3s\u001b[0m 80ms/step\n"
     ]
    }
   ],
   "source": [
    "y_pred = target_scaler.inverse_transform(model.predict(X_test_pad))\n",
    "y_test2 = np.array(y_test)[:, 0, 0]"
   ]
  },
  {
   "cell_type": "code",
   "execution_count": 43,
   "metadata": {},
   "outputs": [
    {
     "name": "stdout",
     "output_type": "stream",
     "text": [
      "\u001b[1m1/2\u001b[0m \u001b[32m━━━━━━━━━━\u001b[0m\u001b[37m━━━━━━━━━━\u001b[0m \u001b[1m0s\u001b[0m 74ms/step"
     ]
    },
    {
     "name": "stdout",
     "output_type": "stream",
     "text": [
      "\u001b[1m2/2\u001b[0m \u001b[32m━━━━━━━━━━━━━━━━━━━━\u001b[0m\u001b[37m\u001b[0m \u001b[1m0s\u001b[0m 38ms/step\n"
     ]
    },
    {
     "data": {
      "text/plain": [
       "-350.0702209472656"
      ]
     },
     "execution_count": 43,
     "metadata": {},
     "output_type": "execute_result"
    }
   ],
   "source": [
    "r2 = r2_score(np.expand_dims(y_test2, -1), model.predict(X_test_pad))\n",
    "r2"
   ]
  }
 ],
 "metadata": {
  "kernelspec": {
   "display_name": "stocks_vs_behavior",
   "language": "python",
   "name": "python3"
  },
  "language_info": {
   "codemirror_mode": {
    "name": "ipython",
    "version": 3
   },
   "file_extension": ".py",
   "mimetype": "text/x-python",
   "name": "python",
   "nbconvert_exporter": "python",
   "pygments_lexer": "ipython3",
   "version": "3.10.6"
  }
 },
 "nbformat": 4,
 "nbformat_minor": 2
}
