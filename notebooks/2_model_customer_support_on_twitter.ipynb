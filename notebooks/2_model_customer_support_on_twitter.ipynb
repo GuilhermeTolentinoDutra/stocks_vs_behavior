{
 "cells": [
  {
   "cell_type": "code",
   "execution_count": 1,
   "metadata": {},
   "outputs": [
    {
     "name": "stderr",
     "output_type": "stream",
     "text": [
      "/home/nathalia/.pyenv/versions/3.10.6/envs/stocks_vs_behavior/lib/python3.10/site-packages/tqdm/auto.py:21: TqdmWarning: IProgress not found. Please update jupyter and ipywidgets. See https://ipywidgets.readthedocs.io/en/stable/user_install.html\n",
      "  from .autonotebook import tqdm as notebook_tqdm\n",
      "2024-05-25 18:33:10.355881: I tensorflow/core/util/port.cc:113] oneDNN custom operations are on. You may see slightly different numerical results due to floating-point round-off errors from different computation orders. To turn them off, set the environment variable `TF_ENABLE_ONEDNN_OPTS=0`.\n",
      "2024-05-25 18:33:10.389055: I external/local_tsl/tsl/cuda/cudart_stub.cc:32] Could not find cuda drivers on your machine, GPU will not be used.\n",
      "2024-05-25 18:33:11.053453: I external/local_tsl/tsl/cuda/cudart_stub.cc:32] Could not find cuda drivers on your machine, GPU will not be used.\n",
      "2024-05-25 18:33:13.246315: I tensorflow/core/platform/cpu_feature_guard.cc:210] This TensorFlow binary is optimized to use available CPU instructions in performance-critical operations.\n",
      "To enable the following instructions: AVX2 AVX_VNNI FMA, in other operations, rebuild TensorFlow with the appropriate compiler flags.\n",
      "2024-05-25 18:33:23.884610: W tensorflow/compiler/tf2tensorrt/utils/py_utils.cc:38] TF-TRT Warning: Could not find TensorRT\n"
     ]
    }
   ],
   "source": [
    "import pandas as pd\n",
    "import os\n",
    "\n",
    "from transformers import TFAutoModelForSequenceClassification, AutoTokenizer\n",
    "from transformers import pipeline\n",
    "from transformers import AutoTokenizer, AutoModelForSequenceClassification, TFAutoModel"
   ]
  },
  {
   "cell_type": "markdown",
   "metadata": {},
   "source": [
    "# Load Data"
   ]
  },
  {
   "cell_type": "code",
   "execution_count": 2,
   "metadata": {},
   "outputs": [],
   "source": [
    "processed_data_path = os.path.join(\n",
    "    os.path.abspath('../'),\n",
    "    'data',\n",
    "    'processed'\n",
    ")"
   ]
  },
  {
   "cell_type": "code",
   "execution_count": 3,
   "metadata": {},
   "outputs": [],
   "source": [
    "df_threads_text = pd.read_csv(\n",
    "     os.path.join(\n",
    "         processed_data_path,\n",
    "        'customer_support_on_twitter_threads_text.csv'\n",
    "    ),\n",
    "    index_col=0\n",
    ")"
   ]
  },
  {
   "cell_type": "code",
   "execution_count": 4,
   "metadata": {},
   "outputs": [
    {
     "data": {
      "text/html": [
       "<div>\n",
       "<style scoped>\n",
       "    .dataframe tbody tr th:only-of-type {\n",
       "        vertical-align: middle;\n",
       "    }\n",
       "\n",
       "    .dataframe tbody tr th {\n",
       "        vertical-align: top;\n",
       "    }\n",
       "\n",
       "    .dataframe thead th {\n",
       "        text-align: right;\n",
       "    }\n",
       "</style>\n",
       "<table border=\"1\" class=\"dataframe\">\n",
       "  <thead>\n",
       "    <tr style=\"text-align: right;\">\n",
       "      <th></th>\n",
       "      <th>thread_id</th>\n",
       "      <th>n_tweets</th>\n",
       "      <th>ended_at</th>\n",
       "      <th>started_at</th>\n",
       "      <th>duration</th>\n",
       "      <th>thread_text</th>\n",
       "    </tr>\n",
       "  </thead>\n",
       "  <tbody>\n",
       "    <tr>\n",
       "      <th>0</th>\n",
       "      <td>True</td>\n",
       "      <td>1</td>\n",
       "      <td>2011-08-29 03:20:05+00:00</td>\n",
       "      <td>2011-08-29 03:20:05+00:00</td>\n",
       "      <td>0</td>\n",
       "      <td>Lost your booking number? No worries, just dro...</td>\n",
       "    </tr>\n",
       "    <tr>\n",
       "      <th>1</th>\n",
       "      <td>2.0</td>\n",
       "      <td>4</td>\n",
       "      <td>2014-12-04 17:57:42+00:00</td>\n",
       "      <td>2014-12-04 00:22:00+00:00</td>\n",
       "      <td>1055</td>\n",
       "      <td>@119616 The .nbi files are part of the backup ...</td>\n",
       "    </tr>\n",
       "    <tr>\n",
       "      <th>2</th>\n",
       "      <td>3.0</td>\n",
       "      <td>1</td>\n",
       "      <td>2013-12-13 15:31:53+00:00</td>\n",
       "      <td>2013-12-13 15:31:53+00:00</td>\n",
       "      <td>0</td>\n",
       "      <td>Unreservable coaches with the new timetable ar...</td>\n",
       "    </tr>\n",
       "    <tr>\n",
       "      <th>3</th>\n",
       "      <td>4.0</td>\n",
       "      <td>2</td>\n",
       "      <td>2014-08-27 07:29:33+00:00</td>\n",
       "      <td>2014-08-27 06:31:06+00:00</td>\n",
       "      <td>58</td>\n",
       "      <td>Hello @121643 , please provide the affected mo...</td>\n",
       "    </tr>\n",
       "    <tr>\n",
       "      <th>4</th>\n",
       "      <td>5.0</td>\n",
       "      <td>2</td>\n",
       "      <td>2016-02-07 10:47:37+00:00</td>\n",
       "      <td>2016-02-07 10:40:43+00:00</td>\n",
       "      <td>6</td>\n",
       "      <td>@121880 The Premium subscription 21660 has bee...</td>\n",
       "    </tr>\n",
       "    <tr>\n",
       "      <th>...</th>\n",
       "      <td>...</td>\n",
       "      <td>...</td>\n",
       "      <td>...</td>\n",
       "      <td>...</td>\n",
       "      <td>...</td>\n",
       "      <td>...</td>\n",
       "    </tr>\n",
       "    <tr>\n",
       "      <th>423</th>\n",
       "      <td>424.0</td>\n",
       "      <td>6</td>\n",
       "      <td>2015-12-11 20:44:39+00:00</td>\n",
       "      <td>2015-12-11 20:38:22+00:00</td>\n",
       "      <td>6</td>\n",
       "      <td>@817936 If you put reason as same day refund a...</td>\n",
       "    </tr>\n",
       "    <tr>\n",
       "      <th>424</th>\n",
       "      <td>425.0</td>\n",
       "      <td>2</td>\n",
       "      <td>2016-04-15 10:15:53+00:00</td>\n",
       "      <td>2015-09-06 18:05:56+00:00</td>\n",
       "      <td>319209</td>\n",
       "      <td>@818934 Hello Mary, we just reply to your DM. ...</td>\n",
       "    </tr>\n",
       "    <tr>\n",
       "      <th>425</th>\n",
       "      <td>426.0</td>\n",
       "      <td>3</td>\n",
       "      <td>2014-12-09 17:05:05+00:00</td>\n",
       "      <td>2014-12-09 11:54:41+00:00</td>\n",
       "      <td>310</td>\n",
       "      <td>@822638 Frozen on message: Preparing to turn o...</td>\n",
       "    </tr>\n",
       "    <tr>\n",
       "      <th>426</th>\n",
       "      <td>427.0</td>\n",
       "      <td>2</td>\n",
       "      <td>2015-11-20 13:07:03+00:00</td>\n",
       "      <td>2015-11-20 08:15:51+00:00</td>\n",
       "      <td>291</td>\n",
       "      <td>@822842 We'd like to look into this, Gordan. C...</td>\n",
       "    </tr>\n",
       "    <tr>\n",
       "      <th>427</th>\n",
       "      <td>428.0</td>\n",
       "      <td>1</td>\n",
       "      <td>2011-10-17 18:00:43+00:00</td>\n",
       "      <td>2011-10-17 18:00:43+00:00</td>\n",
       "      <td>0</td>\n",
       "      <td>Catch #WellsFargo 's CFO, Tim Sloan, on @12192...</td>\n",
       "    </tr>\n",
       "  </tbody>\n",
       "</table>\n",
       "<p>428 rows × 6 columns</p>\n",
       "</div>"
      ],
      "text/plain": [
       "    thread_id  n_tweets                   ended_at                 started_at  \\\n",
       "0        True         1  2011-08-29 03:20:05+00:00  2011-08-29 03:20:05+00:00   \n",
       "1         2.0         4  2014-12-04 17:57:42+00:00  2014-12-04 00:22:00+00:00   \n",
       "2         3.0         1  2013-12-13 15:31:53+00:00  2013-12-13 15:31:53+00:00   \n",
       "3         4.0         2  2014-08-27 07:29:33+00:00  2014-08-27 06:31:06+00:00   \n",
       "4         5.0         2  2016-02-07 10:47:37+00:00  2016-02-07 10:40:43+00:00   \n",
       "..        ...       ...                        ...                        ...   \n",
       "423     424.0         6  2015-12-11 20:44:39+00:00  2015-12-11 20:38:22+00:00   \n",
       "424     425.0         2  2016-04-15 10:15:53+00:00  2015-09-06 18:05:56+00:00   \n",
       "425     426.0         3  2014-12-09 17:05:05+00:00  2014-12-09 11:54:41+00:00   \n",
       "426     427.0         2  2015-11-20 13:07:03+00:00  2015-11-20 08:15:51+00:00   \n",
       "427     428.0         1  2011-10-17 18:00:43+00:00  2011-10-17 18:00:43+00:00   \n",
       "\n",
       "     duration                                        thread_text  \n",
       "0           0  Lost your booking number? No worries, just dro...  \n",
       "1        1055  @119616 The .nbi files are part of the backup ...  \n",
       "2           0  Unreservable coaches with the new timetable ar...  \n",
       "3          58  Hello @121643 , please provide the affected mo...  \n",
       "4           6  @121880 The Premium subscription 21660 has bee...  \n",
       "..        ...                                                ...  \n",
       "423         6  @817936 If you put reason as same day refund a...  \n",
       "424    319209  @818934 Hello Mary, we just reply to your DM. ...  \n",
       "425       310  @822638 Frozen on message: Preparing to turn o...  \n",
       "426       291  @822842 We'd like to look into this, Gordan. C...  \n",
       "427         0  Catch #WellsFargo 's CFO, Tim Sloan, on @12192...  \n",
       "\n",
       "[428 rows x 6 columns]"
      ]
     },
     "execution_count": 4,
     "metadata": {},
     "output_type": "execute_result"
    }
   ],
   "source": [
    "df_threads_text"
   ]
  },
  {
   "cell_type": "markdown",
   "metadata": {},
   "source": [
    "# Sentiment Analysis"
   ]
  },
  {
   "cell_type": "markdown",
   "metadata": {},
   "source": [
    "## Load Model"
   ]
  },
  {
   "cell_type": "code",
   "execution_count": 5,
   "metadata": {},
   "outputs": [
    {
     "name": "stderr",
     "output_type": "stream",
     "text": [
      "All model checkpoint layers were used when initializing TFRobertaForSequenceClassification.\n",
      "\n",
      "Some layers of TFRobertaForSequenceClassification were not initialized from the model checkpoint at cardiffnlp/twitter-roberta-base-sentiment-latest and are newly initialized: ['classifier']\n",
      "You should probably TRAIN this model on a down-stream task to be able to use it for predictions and inference.\n",
      "/home/nathalia/.pyenv/versions/3.10.6/envs/stocks_vs_behavior/lib/python3.10/site-packages/huggingface_hub/file_download.py:1132: FutureWarning: `resume_download` is deprecated and will be removed in version 1.0.0. Downloads always resume when possible. If you want to force a new download, use `force_download=True`.\n",
      "  warnings.warn(\n"
     ]
    }
   ],
   "source": [
    "model_name = \"cardiffnlp/twitter-roberta-base-sentiment-latest\"\n",
    "model = TFAutoModelForSequenceClassification.from_pretrained(model_name)\n",
    "tokenizer = AutoTokenizer.from_pretrained(model_name)"
   ]
  },
  {
   "cell_type": "markdown",
   "metadata": {},
   "source": [
    "## Check model"
   ]
  },
  {
   "cell_type": "code",
   "execution_count": 22,
   "metadata": {},
   "outputs": [],
   "source": [
    "data_input = df_threads_text['thread_text'][423]\n",
    "encoded_input = tokenizer(data_input, return_tensors='tf')"
   ]
  },
  {
   "cell_type": "code",
   "execution_count": 23,
   "metadata": {},
   "outputs": [
    {
     "data": {
      "text/plain": [
       "0"
      ]
     },
     "execution_count": 23,
     "metadata": {},
     "output_type": "execute_result"
    }
   ],
   "source": [
    "output = model(encoded_input)\n",
    "scores = output.logits.numpy()[0]\n",
    "predicted_label = int(scores.argmax())\n",
    "predicted_label"
   ]
  },
  {
   "cell_type": "code",
   "execution_count": 24,
   "metadata": {},
   "outputs": [
    {
     "data": {
      "text/plain": [
       "array([ 0.10046393, -0.06955207, -0.02814335], dtype=float32)"
      ]
     },
     "execution_count": 24,
     "metadata": {},
     "output_type": "execute_result"
    }
   ],
   "source": [
    "scores"
   ]
  },
  {
   "cell_type": "code",
   "execution_count": 25,
   "metadata": {},
   "outputs": [
    {
     "data": {
      "text/plain": [
       "\"@817936 If you put reason as same day refund and explain got wrong ticket, I'd expect the £10 will likely be waived. -Ollie @GWRHelp Yes, I bought them this afternoon and they're not for use until January. @817936 Did you buy the tickets today? -Ollie @GWRHelp Ok, and will I be charged the £10 admin fee? Haven't printed the tickets from the machine at the station yet. @817936 Hi Kimberley. You would need to apply for refund and then buy the appropriate ticket. -Ollie @GWRHelp Hi, booked some tickets on your website earlier but need to change one from day return to open return. How can I do this?\""
      ]
     },
     "execution_count": 25,
     "metadata": {},
     "output_type": "execute_result"
    }
   ],
   "source": [
    "data_input"
   ]
  },
  {
   "cell_type": "markdown",
   "metadata": {},
   "source": [
    "## Apply Model"
   ]
  },
  {
   "cell_type": "code",
   "execution_count": 27,
   "metadata": {},
   "outputs": [
    {
     "name": "stderr",
     "output_type": "stream",
     "text": [
      "All model checkpoint layers were used when initializing TFRobertaForSequenceClassification.\n",
      "\n",
      "Some layers of TFRobertaForSequenceClassification were not initialized from the model checkpoint at cardiffnlp/twitter-roberta-base-sentiment-latest and are newly initialized: ['classifier']\n",
      "You should probably TRAIN this model on a down-stream task to be able to use it for predictions and inference.\n"
     ]
    }
   ],
   "source": [
    "sentiment_task = pipeline(\"sentiment-analysis\", model=model_name, tokenizer=model_name)"
   ]
  },
  {
   "cell_type": "code",
   "execution_count": 28,
   "metadata": {},
   "outputs": [
    {
     "name": "stderr",
     "output_type": "stream",
     "text": [
      "/tmp/ipykernel_426093/3361097826.py:2: SettingWithCopyWarning: \n",
      "A value is trying to be set on a copy of a slice from a DataFrame.\n",
      "Try using .loc[row_indexer,col_indexer] = value instead\n",
      "\n",
      "See the caveats in the documentation: https://pandas.pydata.org/pandas-docs/stable/user_guide/indexing.html#returning-a-view-versus-a-copy\n",
      "  batch['Sentiment'] = batch['thread_text'].apply(sentiment_task)\n"
     ]
    }
   ],
   "source": [
    "df_sentiments = pd.DataFrame()\n",
    "for i in range(0, len(df_threads_text) + 1, 100):\n",
    "    batch = df_threads_text.iloc[:i]\n",
    "    batch['Sentiment'] = batch['thread_text'].apply(sentiment_task)\n",
    "\n",
    "    batch.to_csv(\n",
    "        os.path.join(\n",
    "            os.path.abspath('../'),\n",
    "            'data',\n",
    "            'tmp',\n",
    "            f'threads_sentiment_batch_{i-100}_{i}.csv'\n",
    "        )\n",
    "    )\n",
    "\n",
    "    df_sentiments = pd.concat([df_sentiments, batch])"
   ]
  },
  {
   "cell_type": "code",
   "execution_count": 29,
   "metadata": {},
   "outputs": [
    {
     "data": {
      "text/html": [
       "<div>\n",
       "<style scoped>\n",
       "    .dataframe tbody tr th:only-of-type {\n",
       "        vertical-align: middle;\n",
       "    }\n",
       "\n",
       "    .dataframe tbody tr th {\n",
       "        vertical-align: top;\n",
       "    }\n",
       "\n",
       "    .dataframe thead th {\n",
       "        text-align: right;\n",
       "    }\n",
       "</style>\n",
       "<table border=\"1\" class=\"dataframe\">\n",
       "  <thead>\n",
       "    <tr style=\"text-align: right;\">\n",
       "      <th></th>\n",
       "      <th>thread_id</th>\n",
       "      <th>n_tweets</th>\n",
       "      <th>ended_at</th>\n",
       "      <th>started_at</th>\n",
       "      <th>duration</th>\n",
       "      <th>thread_text</th>\n",
       "      <th>Sentiment</th>\n",
       "    </tr>\n",
       "  </thead>\n",
       "  <tbody>\n",
       "    <tr>\n",
       "      <th>0</th>\n",
       "      <td>True</td>\n",
       "      <td>1</td>\n",
       "      <td>2011-08-29 03:20:05+00:00</td>\n",
       "      <td>2011-08-29 03:20:05+00:00</td>\n",
       "      <td>0</td>\n",
       "      <td>Lost your booking number? No worries, just dro...</td>\n",
       "      <td>[{'label': 'negative', 'score': 0.386934578418...</td>\n",
       "    </tr>\n",
       "    <tr>\n",
       "      <th>1</th>\n",
       "      <td>2.0</td>\n",
       "      <td>4</td>\n",
       "      <td>2014-12-04 17:57:42+00:00</td>\n",
       "      <td>2014-12-04 00:22:00+00:00</td>\n",
       "      <td>1055</td>\n",
       "      <td>@119616 The .nbi files are part of the backup ...</td>\n",
       "      <td>[{'label': 'positive', 'score': 0.409872591495...</td>\n",
       "    </tr>\n",
       "    <tr>\n",
       "      <th>2</th>\n",
       "      <td>3.0</td>\n",
       "      <td>1</td>\n",
       "      <td>2013-12-13 15:31:53+00:00</td>\n",
       "      <td>2013-12-13 15:31:53+00:00</td>\n",
       "      <td>0</td>\n",
       "      <td>Unreservable coaches with the new timetable ar...</td>\n",
       "      <td>[{'label': 'negative', 'score': 0.362931340932...</td>\n",
       "    </tr>\n",
       "    <tr>\n",
       "      <th>3</th>\n",
       "      <td>4.0</td>\n",
       "      <td>2</td>\n",
       "      <td>2014-08-27 07:29:33+00:00</td>\n",
       "      <td>2014-08-27 06:31:06+00:00</td>\n",
       "      <td>58</td>\n",
       "      <td>Hello @121643 , please provide the affected mo...</td>\n",
       "      <td>[{'label': 'negative', 'score': 0.369610667228...</td>\n",
       "    </tr>\n",
       "    <tr>\n",
       "      <th>4</th>\n",
       "      <td>5.0</td>\n",
       "      <td>2</td>\n",
       "      <td>2016-02-07 10:47:37+00:00</td>\n",
       "      <td>2016-02-07 10:40:43+00:00</td>\n",
       "      <td>6</td>\n",
       "      <td>@121880 The Premium subscription 21660 has bee...</td>\n",
       "      <td>[{'label': 'negative', 'score': 0.380617201328...</td>\n",
       "    </tr>\n",
       "    <tr>\n",
       "      <th>...</th>\n",
       "      <td>...</td>\n",
       "      <td>...</td>\n",
       "      <td>...</td>\n",
       "      <td>...</td>\n",
       "      <td>...</td>\n",
       "      <td>...</td>\n",
       "      <td>...</td>\n",
       "    </tr>\n",
       "    <tr>\n",
       "      <th>95</th>\n",
       "      <td>96.0</td>\n",
       "      <td>1</td>\n",
       "      <td>2014-09-08 22:08:47+00:00</td>\n",
       "      <td>2014-09-08 22:08:47+00:00</td>\n",
       "      <td>0</td>\n",
       "      <td>Attention all Daniel Bowens: Please get your e...</td>\n",
       "      <td>[{'label': 'positive', 'score': 0.380338102579...</td>\n",
       "    </tr>\n",
       "    <tr>\n",
       "      <th>96</th>\n",
       "      <td>97.0</td>\n",
       "      <td>5</td>\n",
       "      <td>2014-02-12 04:00:47+00:00</td>\n",
       "      <td>2013-12-17 15:01:42+00:00</td>\n",
       "      <td>81419</td>\n",
       "      <td>@255040 Hi, Kindly submit your request via E-F...</td>\n",
       "      <td>[{'label': 'positive', 'score': 0.398043304681...</td>\n",
       "    </tr>\n",
       "    <tr>\n",
       "      <th>97</th>\n",
       "      <td>98.0</td>\n",
       "      <td>3</td>\n",
       "      <td>2016-02-12 04:22:23+00:00</td>\n",
       "      <td>2013-07-08 13:53:33+00:00</td>\n",
       "      <td>1365988</td>\n",
       "      <td>Hello @256145 You could also empty your inbox ...</td>\n",
       "      <td>[{'label': 'positive', 'score': 0.399836421012...</td>\n",
       "    </tr>\n",
       "    <tr>\n",
       "      <th>98</th>\n",
       "      <td>99.0</td>\n",
       "      <td>1</td>\n",
       "      <td>2015-07-20 17:13:35+00:00</td>\n",
       "      <td>2015-07-20 17:13:35+00:00</td>\n",
       "      <td>0</td>\n",
       "      <td>As @115993 celebrates a new beginning as #PYPL...</td>\n",
       "      <td>[{'label': 'positive', 'score': 0.401550859212...</td>\n",
       "    </tr>\n",
       "    <tr>\n",
       "      <th>99</th>\n",
       "      <td>100.0</td>\n",
       "      <td>2</td>\n",
       "      <td>2015-04-17 13:11:30+00:00</td>\n",
       "      <td>2015-04-17 06:28:25+00:00</td>\n",
       "      <td>403</td>\n",
       "      <td>@260680 The Nike+ Coach start date will automa...</td>\n",
       "      <td>[{'label': 'positive', 'score': 0.366495072841...</td>\n",
       "    </tr>\n",
       "  </tbody>\n",
       "</table>\n",
       "<p>100 rows × 7 columns</p>\n",
       "</div>"
      ],
      "text/plain": [
       "   thread_id  n_tweets                   ended_at                 started_at  \\\n",
       "0       True         1  2011-08-29 03:20:05+00:00  2011-08-29 03:20:05+00:00   \n",
       "1        2.0         4  2014-12-04 17:57:42+00:00  2014-12-04 00:22:00+00:00   \n",
       "2        3.0         1  2013-12-13 15:31:53+00:00  2013-12-13 15:31:53+00:00   \n",
       "3        4.0         2  2014-08-27 07:29:33+00:00  2014-08-27 06:31:06+00:00   \n",
       "4        5.0         2  2016-02-07 10:47:37+00:00  2016-02-07 10:40:43+00:00   \n",
       "..       ...       ...                        ...                        ...   \n",
       "95      96.0         1  2014-09-08 22:08:47+00:00  2014-09-08 22:08:47+00:00   \n",
       "96      97.0         5  2014-02-12 04:00:47+00:00  2013-12-17 15:01:42+00:00   \n",
       "97      98.0         3  2016-02-12 04:22:23+00:00  2013-07-08 13:53:33+00:00   \n",
       "98      99.0         1  2015-07-20 17:13:35+00:00  2015-07-20 17:13:35+00:00   \n",
       "99     100.0         2  2015-04-17 13:11:30+00:00  2015-04-17 06:28:25+00:00   \n",
       "\n",
       "    duration                                        thread_text  \\\n",
       "0          0  Lost your booking number? No worries, just dro...   \n",
       "1       1055  @119616 The .nbi files are part of the backup ...   \n",
       "2          0  Unreservable coaches with the new timetable ar...   \n",
       "3         58  Hello @121643 , please provide the affected mo...   \n",
       "4          6  @121880 The Premium subscription 21660 has bee...   \n",
       "..       ...                                                ...   \n",
       "95         0  Attention all Daniel Bowens: Please get your e...   \n",
       "96     81419  @255040 Hi, Kindly submit your request via E-F...   \n",
       "97   1365988  Hello @256145 You could also empty your inbox ...   \n",
       "98         0  As @115993 celebrates a new beginning as #PYPL...   \n",
       "99       403  @260680 The Nike+ Coach start date will automa...   \n",
       "\n",
       "                                            Sentiment  \n",
       "0   [{'label': 'negative', 'score': 0.386934578418...  \n",
       "1   [{'label': 'positive', 'score': 0.409872591495...  \n",
       "2   [{'label': 'negative', 'score': 0.362931340932...  \n",
       "3   [{'label': 'negative', 'score': 0.369610667228...  \n",
       "4   [{'label': 'negative', 'score': 0.380617201328...  \n",
       "..                                                ...  \n",
       "95  [{'label': 'positive', 'score': 0.380338102579...  \n",
       "96  [{'label': 'positive', 'score': 0.398043304681...  \n",
       "97  [{'label': 'positive', 'score': 0.399836421012...  \n",
       "98  [{'label': 'positive', 'score': 0.401550859212...  \n",
       "99  [{'label': 'positive', 'score': 0.366495072841...  \n",
       "\n",
       "[100 rows x 7 columns]"
      ]
     },
     "execution_count": 29,
     "metadata": {},
     "output_type": "execute_result"
    }
   ],
   "source": [
    "batch"
   ]
  },
  {
   "cell_type": "code",
   "execution_count": 31,
   "metadata": {},
   "outputs": [
    {
     "data": {
      "text/plain": [
       "[{'label': 'positive', 'score': 0.39804330468177795}]"
      ]
     },
     "execution_count": 31,
     "metadata": {},
     "output_type": "execute_result"
    }
   ],
   "source": [
    "batch['Sentiment'][96]"
   ]
  }
 ],
 "metadata": {
  "kernelspec": {
   "display_name": "stocks_vs_behavior",
   "language": "python",
   "name": "python3"
  },
  "language_info": {
   "codemirror_mode": {
    "name": "ipython",
    "version": 3
   },
   "file_extension": ".py",
   "mimetype": "text/x-python",
   "name": "python",
   "nbconvert_exporter": "python",
   "pygments_lexer": "ipython3",
   "version": "3.10.6"
  }
 },
 "nbformat": 4,
 "nbformat_minor": 2
}
