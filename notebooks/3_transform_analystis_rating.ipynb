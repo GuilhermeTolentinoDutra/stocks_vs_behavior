{
 "cells": [
  {
   "cell_type": "code",
   "execution_count": 23,
   "metadata": {},
   "outputs": [],
   "source": [
    "# Import packages\n",
    "import pandas as pd\n",
    "import os"
   ]
  },
  {
   "cell_type": "code",
   "execution_count": 24,
   "metadata": {},
   "outputs": [],
   "source": [
    "# Path to ./data/processed folder\n",
    "path_data_processed = os.path.join(\n",
    "    os.path.abspath('../'),\n",
    "    'data',\n",
    "    'processed'\n",
    ")"
   ]
  },
  {
   "cell_type": "markdown",
   "metadata": {},
   "source": [
    "# Load dataset"
   ]
  },
  {
   "cell_type": "code",
   "execution_count": 25,
   "metadata": {},
   "outputs": [],
   "source": [
    "# Read dataframe with score per news\n",
    "# The score is related to the sentiment analysis model\n",
    "df_raw = pd.read_csv(\n",
    "    os.path.join(\n",
    "        path_data_processed,\n",
    "        'analyst_ratings_score.csv'\n",
    "    )\n",
    ")\n",
    "\n",
    "df_raw = df_raw.rename({'datetime': 'Date'}, axis=1)"
   ]
  },
  {
   "cell_type": "code",
   "execution_count": 26,
   "metadata": {},
   "outputs": [],
   "source": [
    "# Select only negative and positive labels\n",
    "df_wo_neutral = df_raw[\n",
    "    (df_raw['Label'].str.contains('negative'))\n",
    "    | (df_raw['Label'].str.contains('positive'))\n",
    "]"
   ]
  },
  {
   "cell_type": "markdown",
   "metadata": {},
   "source": [
    "# % of News per Label per Date"
   ]
  },
  {
   "cell_type": "markdown",
   "metadata": {},
   "source": [
    "## With \"neutral\""
   ]
  },
  {
   "cell_type": "code",
   "execution_count": 27,
   "metadata": {},
   "outputs": [],
   "source": [
    "# Group by date and label and compute number of news\n",
    "df_count = df_raw.groupby(\n",
    "    ['Date', 'Label']\n",
    ").size().unstack(fill_value=0)\n",
    "\n",
    "# Divide by 25, wich is the number of news per day\n",
    "df_pct_news = df_count.div(25, axis=0)\n",
    "\n",
    "# Reset index\n",
    "df_pct_news = df_pct_news.reset_index(drop=False)"
   ]
  },
  {
   "cell_type": "code",
   "execution_count": 28,
   "metadata": {},
   "outputs": [],
   "source": [
    "# Convert Date colum to datetime\n",
    "df_pct_news['Date'] = pd.to_datetime(df_pct_news['Date'])\n",
    "\n",
    "# Save\n",
    "df_pct_news.to_csv(\n",
    "    os.path.join(\n",
    "        path_data_processed,\n",
    "        'analyst_ratings_pct_of_news.csv'\n",
    "    ),\n",
    "    index=False\n",
    ")"
   ]
  },
  {
   "cell_type": "markdown",
   "metadata": {},
   "source": [
    "## Without \"neutral\""
   ]
  },
  {
   "cell_type": "code",
   "execution_count": 29,
   "metadata": {},
   "outputs": [],
   "source": [
    "# Group by date and label and compute number of news\n",
    "df_pct_news_wo_neutral = df_wo_neutral.groupby(\n",
    "    ['Date', 'Label']\n",
    ").size().unstack(fill_value=0)\n",
    "\n",
    "# Compute total number of news\n",
    "df_pct_news_wo_neutral['Total'] = (\n",
    "    df_pct_news_wo_neutral['negative']\n",
    "    + df_pct_news_wo_neutral['positive']\n",
    ")\n",
    "\n",
    "# Calculate percentage of positive news\n",
    "df_pct_news_wo_neutral['positive'] = (\n",
    "    df_pct_news_wo_neutral['positive']\n",
    "    / df_pct_news_wo_neutral['Total']\n",
    ")\n",
    "\n",
    "# Calculate percentage of negative news\n",
    "df_pct_news_wo_neutral['negative'] = (\n",
    "    df_pct_news_wo_neutral['negative']\n",
    "    / df_pct_news_wo_neutral['Total']\n",
    ")\n",
    "\n",
    "# Reset index\n",
    "df_pct_news_wo_neutral = df_pct_news_wo_neutral.reset_index(drop=False)"
   ]
  },
  {
   "cell_type": "code",
   "execution_count": 30,
   "metadata": {},
   "outputs": [],
   "source": [
    "# Convert Date colum to datetime\n",
    "df_pct_news_wo_neutral['Date'] = pd.to_datetime(df_pct_news_wo_neutral['Date'])\n",
    "\n",
    "# Save\n",
    "df_pct_news_wo_neutral.to_csv(\n",
    "    os.path.join(\n",
    "        path_data_processed,\n",
    "        'analyst_ratings_pct_of_news_wo_neutral.csv'\n",
    "    ),\n",
    "    index=False\n",
    ")"
   ]
  },
  {
   "cell_type": "markdown",
   "metadata": {},
   "source": [
    "# Average Score per Date"
   ]
  },
  {
   "cell_type": "markdown",
   "metadata": {},
   "source": [
    "## With \"neutral\""
   ]
  },
  {
   "cell_type": "code",
   "execution_count": 31,
   "metadata": {},
   "outputs": [],
   "source": [
    "# Group by date and compute average score\n",
    "df_avg_score = df_raw.groupby(\n",
    "    'Date', as_index=False\n",
    ")['Score'].mean()"
   ]
  },
  {
   "cell_type": "code",
   "execution_count": 32,
   "metadata": {},
   "outputs": [],
   "source": [
    "# Convert Date colum to datetime\n",
    "df_avg_score['Date'] = pd.to_datetime(df_avg_score['Date'])\n",
    "\n",
    "# Save\n",
    "df_avg_score.to_csv(\n",
    "    os.path.join(\n",
    "        path_data_processed,\n",
    "        'analyst_ratings_avg_score.csv'\n",
    "    ),\n",
    "    index=False\n",
    ")"
   ]
  },
  {
   "cell_type": "markdown",
   "metadata": {},
   "source": [
    "## Without \"neutral\""
   ]
  },
  {
   "cell_type": "code",
   "execution_count": 33,
   "metadata": {},
   "outputs": [],
   "source": [
    "# Group by date and compute average score\n",
    "df_avg_score_wo_neutral = df_wo_neutral.groupby(\n",
    "    'Date', as_index=False\n",
    ")['Score'].mean()"
   ]
  },
  {
   "cell_type": "code",
   "execution_count": 34,
   "metadata": {},
   "outputs": [],
   "source": [
    "# Convert Date colum to datetime\n",
    "df_avg_score_wo_neutral['Date'] = pd.to_datetime(df_avg_score_wo_neutral['Date'])\n",
    "\n",
    "# Save\n",
    "df_avg_score_wo_neutral.to_csv(\n",
    "    os.path.join(\n",
    "        path_data_processed,\n",
    "        'analyst_ratings_avg_score_wo_neutral.csv'\n",
    "    ),\n",
    "    index=False\n",
    ")"
   ]
  },
  {
   "cell_type": "markdown",
   "metadata": {},
   "source": [
    "# Average Score per Label and Date"
   ]
  },
  {
   "cell_type": "markdown",
   "metadata": {},
   "source": [
    "## With \"neutral\""
   ]
  },
  {
   "cell_type": "code",
   "execution_count": 35,
   "metadata": {},
   "outputs": [],
   "source": [
    "# Pivot table to convert lables into columns\n",
    "# and compute the average score\n",
    "df_avg_score_per_label = df_raw.pivot_table(\n",
    "    values='Score',\n",
    "    columns=['Label'],\n",
    "    index='Date',\n",
    "    aggfunc='mean'\n",
    ").reset_index(drop=False)\n",
    "\n",
    "# Convert Date colum to datetime\n",
    "df_avg_score_per_label['Date'] = pd.to_datetime(df_avg_score_per_label['Date'])\n",
    "\n",
    "# Save result as csv\n",
    "df_avg_score_per_label.to_csv(\n",
    "    os.path.join(\n",
    "        path_data_processed,\n",
    "        'analyst_ratings_avg_score_per_label.csv'\n",
    "    ),\n",
    "    index=False\n",
    ")"
   ]
  },
  {
   "cell_type": "markdown",
   "metadata": {},
   "source": [
    "## Without \"neutral\""
   ]
  },
  {
   "cell_type": "code",
   "execution_count": 36,
   "metadata": {},
   "outputs": [],
   "source": [
    "# Pivot table to convert lables into columns\n",
    "# and compute the average score\n",
    "df_avg_score_per_label_wo_neutral = df_wo_neutral.pivot_table(\n",
    "    values='Score',\n",
    "    columns=['Label'],\n",
    "    index='Date',\n",
    "    aggfunc='mean'\n",
    ").reset_index(drop=False)\n",
    "\n",
    "# Convert Date colum to datetime\n",
    "df_avg_score_per_label_wo_neutral['Date'] = pd.to_datetime(df_avg_score_per_label_wo_neutral['Date'])\n",
    "\n",
    "# Save result as csv\n",
    "df_avg_score_per_label_wo_neutral.to_csv(\n",
    "    os.path.join(\n",
    "        path_data_processed,\n",
    "        'analyst_ratings_avg_score_per_label_wo_neutral.csv'\n",
    "    ),\n",
    "    index=False\n",
    ")"
   ]
  },
  {
   "cell_type": "markdown",
   "metadata": {},
   "source": [
    "# Weighted Average per Label and Date"
   ]
  },
  {
   "cell_type": "markdown",
   "metadata": {},
   "source": [
    "## With \"neutral\""
   ]
  },
  {
   "cell_type": "code",
   "execution_count": 37,
   "metadata": {},
   "outputs": [],
   "source": [
    "# Group by to count number of news per date and lable\n",
    "df_count_label = df_raw.groupby(\n",
    "    ['Date', 'Label'], as_index=False\n",
    ")['title'].count()\n",
    "\n",
    "# Pivot table to convert lables into columns\n",
    "df_count_label = df_count_label.pivot_table(\n",
    "    values='title',\n",
    "    columns=['Label'],\n",
    "    index='Date'\n",
    ").reset_index(drop=False)\n",
    "\n",
    "# Fill null values with 0\n",
    "df_count_label = df_count_label.fillna(0)\n",
    "\n",
    "# Rename columns\n",
    "df_count_label = df_count_label.rename(\n",
    "    {\n",
    "        'negative': 'n_negative',\n",
    "        'neutral': 'n_neutral',\n",
    "        'positive': 'n_positive',\n",
    "    },\n",
    "    axis=1\n",
    ")\n",
    "\n",
    "# Convert Date colum to datetime\n",
    "df_count_label['Date'] = pd.to_datetime(df_count_label['Date'])\n"
   ]
  },
  {
   "cell_type": "code",
   "execution_count": 38,
   "metadata": {},
   "outputs": [],
   "source": [
    "# Rename columns of df_avg dataset to keep\n",
    "# the columns names pattern\n",
    "df_avg = df_avg_score_per_label.rename(\n",
    "    {\n",
    "        'negative': 'score_negative',\n",
    "        'neutral': 'score_neutral',\n",
    "        'positive': 'score_positive',\n",
    "    },\n",
    "    axis=1\n",
    ")\n",
    "\n",
    "# Merge df_avg with counting of news per lable\n",
    "# to calculate weighted average score\n",
    "df_weighted_avg = df_avg.merge(\n",
    "    df_count_label,\n",
    "    on='Date',\n",
    "    how='left'\n",
    ")\n",
    "\n",
    "# Compute total number of news per date\n",
    "df_weighted_avg['n_total'] = (\n",
    "    df_weighted_avg['n_negative']\n",
    "    + df_weighted_avg['n_neutral']\n",
    "    + df_weighted_avg['n_positive']\n",
    ")\n",
    "\n",
    "# Calculate weighted average score\n",
    "# average_score * (number_of_news / total_number_of_news)\n",
    "df_weighted_avg['negative'] = (\n",
    "    df_weighted_avg['score_negative']\n",
    "     * (df_weighted_avg['n_negative']\n",
    "      / df_weighted_avg['n_total']\n",
    "    )\n",
    ")\n",
    "\n",
    "df_weighted_avg['neutral'] = (\n",
    "    df_weighted_avg['score_neutral']\n",
    "     * (df_weighted_avg['n_neutral']\n",
    "      / df_weighted_avg['n_total']\n",
    "    )\n",
    ")\n",
    "\n",
    "df_weighted_avg['positive'] = (\n",
    "    df_weighted_avg['score_positive']\n",
    "     * (df_weighted_avg['n_positive']\n",
    "      / df_weighted_avg['n_total']\n",
    "    )\n",
    ")\n",
    "\n",
    "# Select columns to keep\n",
    "df_weighted_avg = df_weighted_avg[['Date', 'negative', 'neutral', 'positive']]\n",
    "\n",
    "# Convert Date colum to datetime\n",
    "df_weighted_avg['Date'] = pd.to_datetime(df_weighted_avg['Date'])\n",
    "\n",
    "# Save as csv\n",
    "df_weighted_avg.to_csv(\n",
    "    os.path.join(\n",
    "        path_data_processed,\n",
    "        'analyst_ratings_weighted_avg_per_label.csv'\n",
    "    ),\n",
    "    index=False\n",
    ")"
   ]
  },
  {
   "cell_type": "markdown",
   "metadata": {},
   "source": [
    "## Without \"neutral\""
   ]
  },
  {
   "cell_type": "code",
   "execution_count": 39,
   "metadata": {},
   "outputs": [],
   "source": [
    "# Group by to count number of news per date and lable\n",
    "df_count_label_wo_neutral = df_wo_neutral.groupby(\n",
    "    ['Date', 'Label'], as_index=False\n",
    ")['title'].count()\n",
    "\n",
    "# Pivot table to convert lables into columns\n",
    "df_count_label_wo_neutral = df_count_label_wo_neutral.pivot_table(\n",
    "    values='title',\n",
    "    columns=['Label'],\n",
    "    index='Date'\n",
    ").reset_index(drop=False)\n",
    "\n",
    "# Fill null values with 0\n",
    "df_count_label_wo_neutral = df_count_label_wo_neutral.fillna(0)\n",
    "\n",
    "# Rename columns\n",
    "df_count_label_wo_neutral = df_count_label_wo_neutral.rename(\n",
    "    {\n",
    "        'negative': 'n_negative',\n",
    "        'positive': 'n_positive',\n",
    "    },\n",
    "    axis=1\n",
    ")\n",
    "\n",
    "# Convert Date colum to datetime\n",
    "df_count_label_wo_neutral['Date'] = pd.to_datetime(df_count_label_wo_neutral['Date'])"
   ]
  },
  {
   "cell_type": "code",
   "execution_count": 40,
   "metadata": {},
   "outputs": [],
   "source": [
    "# Rename columns of df_avg dataset to keep\n",
    "# the columns names pattern\n",
    "df_avg_wo_neutral = df_avg_score_per_label_wo_neutral.rename(\n",
    "    {\n",
    "        'negative': 'score_negative',\n",
    "        'positive': 'score_positive',\n",
    "    },\n",
    "    axis=1\n",
    ")\n",
    "\n",
    "# Merge df_avg with counting of news per lable\n",
    "# to calculate weighted average score\n",
    "df_weighted_avg_wo_neutral = df_avg_wo_neutral.merge(\n",
    "    df_count_label_wo_neutral,\n",
    "    on='Date',\n",
    "    how='left'\n",
    ")\n",
    "\n",
    "# Compute total number of news per date\n",
    "df_weighted_avg_wo_neutral['n_total'] = (\n",
    "    df_weighted_avg_wo_neutral['n_negative']\n",
    "    + df_weighted_avg_wo_neutral['n_positive']\n",
    ")\n",
    "\n",
    "# Calculate weighted average score\n",
    "# average_score * (number_of_news / total_number_of_news)\n",
    "df_weighted_avg_wo_neutral['negative'] = (\n",
    "    df_weighted_avg_wo_neutral['score_negative']\n",
    "    * (\n",
    "        df_weighted_avg_wo_neutral['n_negative']\n",
    "         / df_weighted_avg_wo_neutral['n_total']\n",
    "    )\n",
    ")\n",
    "\n",
    "df_weighted_avg_wo_neutral['positive'] = (\n",
    "    df_weighted_avg_wo_neutral['score_positive']\n",
    "    * (\n",
    "        df_weighted_avg_wo_neutral['n_positive']\n",
    "         / df_weighted_avg_wo_neutral['n_total']\n",
    "    )\n",
    ")\n",
    "\n",
    "# Select columns to keep\n",
    "df_weighted_avg_wo_neutral = df_weighted_avg_wo_neutral[['Date', 'negative', 'positive']]\n",
    "\n",
    "# Convert Date colum to datetime\n",
    "df_weighted_avg_wo_neutral['Date'] = pd.to_datetime(df_weighted_avg_wo_neutral['Date'])\n",
    "\n",
    "# Save as csv\n",
    "df_weighted_avg_wo_neutral.to_csv(\n",
    "    os.path.join(\n",
    "        path_data_processed,\n",
    "        'analyst_ratings_weighted_avg_per_label_wo_neutral.csv'\n",
    "    ),\n",
    "    index=False)"
   ]
  }
 ],
 "metadata": {
  "kernelspec": {
   "display_name": "stocks_vs_behavior",
   "language": "python",
   "name": "python3"
  },
  "language_info": {
   "codemirror_mode": {
    "name": "ipython",
    "version": 3
   },
   "file_extension": ".py",
   "mimetype": "text/x-python",
   "name": "python",
   "nbconvert_exporter": "python",
   "pygments_lexer": "ipython3",
   "version": "3.10.6"
  }
 },
 "nbformat": 4,
 "nbformat_minor": 2
}
