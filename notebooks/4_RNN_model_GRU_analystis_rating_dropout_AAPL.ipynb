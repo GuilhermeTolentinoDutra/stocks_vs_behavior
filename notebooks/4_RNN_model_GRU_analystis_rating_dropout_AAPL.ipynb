{
 "cells": [
  {
   "cell_type": "code",
   "execution_count": 24,
   "metadata": {},
   "outputs": [],
   "source": [
    "import pandas as pd\n",
    "import numpy as np\n",
    "import os\n",
    "\n",
    "from sklearn.preprocessing import MinMaxScaler, StandardScaler\n",
    "from sklearn.pipeline import Pipeline\n",
    "from sklearn.model_selection import GridSearchCV\n",
    "from sklearn.metrics import r2_score, make_scorer\n",
    "from sklearn.linear_model import ElasticNet\n",
    "\n",
    "from tensorflow.keras.preprocessing.sequence import pad_sequences\n",
    "from tensorflow.keras import layers\n",
    "from tensorflow.keras import metrics\n",
    "from tensorflow.keras.callbacks import EarlyStopping\n",
    "from tensorflow.keras.models import Sequential\n",
    "\n",
    "from keras.wrappers.scikit_learn import KerasRegressor\n",
    "\n",
    "import seaborn as sns\n",
    "import matplotlib.pyplot as plt"
   ]
  },
  {
   "cell_type": "code",
   "execution_count": 25,
   "metadata": {},
   "outputs": [],
   "source": [
    "# # Path to ./data/processed folder\n",
    "path_data_processed = os.path.join(\n",
    "    os.path.abspath('../'),\n",
    "    'data',\n",
    "    'processed'\n",
    ")"
   ]
  },
  {
   "cell_type": "markdown",
   "metadata": {},
   "source": [
    "# Load Data"
   ]
  },
  {
   "cell_type": "code",
   "execution_count": 26,
   "metadata": {},
   "outputs": [],
   "source": [
    "# Read dataset with AAPL's historic stock prices\n",
    "df_stocks = pd.read_csv(\n",
    "    os.path.join(\n",
    "        path_data_processed,\n",
    "        'stock_prices_appl.csv'\n",
    "    ),\n",
    "    index_col=0\n",
    ")\n",
    "\n",
    "# Apply pivot_table\n",
    "df_stocks = df_stocks.pivot_table(\n",
    "    values='Close',\n",
    "    index='Date',\n",
    "    columns='Stock'\n",
    ").reset_index(drop=False)"
   ]
  },
  {
   "cell_type": "code",
   "execution_count": 27,
   "metadata": {},
   "outputs": [],
   "source": [
    "# Read dataset with News' score\n",
    "df_agg = pd.read_csv(\n",
    "    os.path.join(\n",
    "        path_data_processed,\n",
    "        'analyst_ratings_avg_score_per_label.csv'\n",
    "    )\n",
    ")\n",
    "\n",
    "# Fill NaN with 0, because there wasn't any news with this label\n",
    "df_agg['positive'] = df_agg['positive'].fillna(0)\n",
    "df_agg['negative'] = df_agg['negative'].fillna(0)\n",
    "df_agg['neutral'] = df_agg['neutral'].fillna(0)"
   ]
  },
  {
   "cell_type": "code",
   "execution_count": 28,
   "metadata": {},
   "outputs": [],
   "source": [
    "# Merge both dataframes on date\n",
    "df = df_stocks.merge(df_agg, on='Date', how='left')\n",
    "\n",
    "# Create target column by shifting stock prices\n",
    "df[f'AAPL_target'] = df['AAPL'].shift(1)"
   ]
  },
  {
   "cell_type": "markdown",
   "metadata": {},
   "source": [
    "# Data Preparation"
   ]
  },
  {
   "cell_type": "code",
   "execution_count": 29,
   "metadata": {},
   "outputs": [],
   "source": [
    "# Select features\n",
    "data = df.drop('Date', axis=1)\n",
    "\n",
    "# Drop null values\n",
    "data = data.dropna()"
   ]
  },
  {
   "cell_type": "markdown",
   "metadata": {},
   "source": [
    "## Train-Test Split"
   ]
  },
  {
   "cell_type": "code",
   "execution_count": 30,
   "metadata": {},
   "outputs": [],
   "source": [
    "# Set train percentage\n",
    "train_percentage = 0.95\n",
    "\n",
    "# Compute lenght of train dataframe\n",
    "train_len = int(len(data) * train_percentage)"
   ]
  },
  {
   "cell_type": "code",
   "execution_count": 31,
   "metadata": {},
   "outputs": [],
   "source": [
    "# Create data_train and data_test:\n",
    "df_train = data.iloc[:train_len]\n",
    "df_test = data.iloc[train_len:]"
   ]
  },
  {
   "cell_type": "code",
   "execution_count": 32,
   "metadata": {},
   "outputs": [
    {
     "data": {
      "text/plain": [
       "<Axes: xlabel='AAPL_target'>"
      ]
     },
     "execution_count": 32,
     "metadata": {},
     "output_type": "execute_result"
    },
    {
     "data": {
      "image/png": "[encoded data removed]",
      "text/plain": [
       "<Figure size 640x480 with 1 Axes>"
      ]
     },
     "metadata": {},
     "output_type": "display_data"
    }
   ],
   "source": [
    "sns.boxplot(data=data, x='AAPL_target')"
   ]
  },
  {
   "cell_type": "markdown",
   "metadata": {},
   "source": [
    "## Scaling\n",
    "Transforming numerical features into a common smaller range"
   ]
  },
  {
   "cell_type": "code",
   "execution_count": 33,
   "metadata": {},
   "outputs": [
    {
     "name": "stderr",
     "output_type": "stream",
     "text": [
      "/tmp/ipykernel_410558/2582218321.py:11: SettingWithCopyWarning: \n",
      "A value is trying to be set on a copy of a slice from a DataFrame.\n",
      "Try using .loc[row_indexer,col_indexer] = value instead\n",
      "\n",
      "See the caveats in the documentation: https://pandas.pydata.org/pandas-docs/stable/user_guide/indexing.html#returning-a-view-versus-a-copy\n",
      "  df_train[target] = target_scaler.transform(df_train[target])\n",
      "/tmp/ipykernel_410558/2582218321.py:12: SettingWithCopyWarning: \n",
      "A value is trying to be set on a copy of a slice from a DataFrame.\n",
      "Try using .loc[row_indexer,col_indexer] = value instead\n",
      "\n",
      "See the caveats in the documentation: https://pandas.pydata.org/pandas-docs/stable/user_guide/indexing.html#returning-a-view-versus-a-copy\n",
      "  df_test[target] = target_scaler.transform(df_test[target])\n",
      "/tmp/ipykernel_410558/2582218321.py:18: SettingWithCopyWarning: \n",
      "A value is trying to be set on a copy of a slice from a DataFrame.\n",
      "Try using .loc[row_indexer,col_indexer] = value instead\n",
      "\n",
      "See the caveats in the documentation: https://pandas.pydata.org/pandas-docs/stable/user_guide/indexing.html#returning-a-view-versus-a-copy\n",
      "  df_train[features_scale] = features_scaler.transform(df_train[features_scale])\n",
      "/tmp/ipykernel_410558/2582218321.py:19: SettingWithCopyWarning: \n",
      "A value is trying to be set on a copy of a slice from a DataFrame.\n",
      "Try using .loc[row_indexer,col_indexer] = value instead\n",
      "\n",
      "See the caveats in the documentation: https://pandas.pydata.org/pandas-docs/stable/user_guide/indexing.html#returning-a-view-versus-a-copy\n",
      "  df_test[features_scale] = features_scaler.transform(df_test[features_scale])\n"
     ]
    }
   ],
   "source": [
    "# Define features to be scaled\n",
    "features_scale = ['AAPL']\n",
    "\n",
    "# Define target columns\n",
    "target = ['AAPL_target']\n",
    "\n",
    "# Train MinMaxScaler to apply on the target columns\n",
    "target_scaler = MinMaxScaler().fit(df_train[target])\n",
    "\n",
    "# Apply scaler on train and test dataframes\n",
    "df_train[target] = target_scaler.transform(df_train[target])\n",
    "df_test[target] = target_scaler.transform(df_test[target])\n",
    "\n",
    "# Train MinMaxScaler to apply on the feature columns\n",
    "features_scaler = MinMaxScaler().fit(df_train[features_scale])\n",
    "\n",
    "# Apply scaler on train and test dataframes\n",
    "df_train[features_scale] = features_scaler.transform(df_train[features_scale])\n",
    "df_test[features_scale] = features_scaler.transform(df_test[features_scale])"
   ]
  },
  {
   "cell_type": "code",
   "execution_count": 34,
   "metadata": {},
   "outputs": [],
   "source": [
    "# import pickle\n",
    "# with open('aapl_with_hour_target_scaler_model_v4.pkl','wb') as f:\n",
    "#     pickle.dump(target_scaler, f)"
   ]
  },
  {
   "cell_type": "markdown",
   "metadata": {},
   "source": [
    "## Subsequences"
   ]
  },
  {
   "cell_type": "code",
   "execution_count": 35,
   "metadata": {},
   "outputs": [],
   "source": [
    "# Define funtion to create subsequences\n",
    "def subsequence(df, length, features, target):\n",
    "    # Initialize variables\n",
    "    X, y = [], []\n",
    "\n",
    "    # Iterate over the dataframe to create subsequences\n",
    "    for i in range(length, df.shape[0]):\n",
    "        X.append(df[features].iloc[i - length: i])\n",
    "        y.append(df[target].iloc[i])\n",
    "\n",
    "    # Convert X and y into arrays\n",
    "    X = np.array(X)\n",
    "    y = np.expand_dims(\n",
    "        np.array(y).astype(np.float32),\n",
    "        axis=-1\n",
    "    )\n",
    "\n",
    "    return X, y"
   ]
  },
  {
   "cell_type": "code",
   "execution_count": 36,
   "metadata": {},
   "outputs": [],
   "source": [
    "# Create subsequence with 5 business days X 4 weeks X 3 months\n",
    "length = 5 * 4 * 3\n",
    "\n",
    "features = [\n",
    "    'AAPL',\n",
    "    'negative',\n",
    "    'neutral',\n",
    "    'positive'\n",
    "]\n",
    "\n",
    "# Create train subsequences\n",
    "X_train, y_train = subsequence(df_train, length, features, target)\n",
    "\n",
    "# Create test subsequences\n",
    "X_test, y_test = subsequence(df_test, length, features, target)"
   ]
  },
  {
   "cell_type": "markdown",
   "metadata": {},
   "source": [
    "## Regularizer"
   ]
  },
  {
   "cell_type": "code",
   "execution_count": 37,
   "metadata": {},
   "outputs": [],
   "source": [
    "# Reshape X_train\n",
    "X_train_reshaped = X_train.reshape(X_train.shape[0], -1)\n",
    "\n",
    "# Reshape y_train\n",
    "y_train_reshaped = y_train.reshape(y_train.shape[0], -1)\n",
    "\n",
    "# Reshape X_test\n",
    "X_test_reshaped = X_test.reshape(X_test.shape[0], -1)"
   ]
  },
  {
   "cell_type": "code",
   "execution_count": 38,
   "metadata": {},
   "outputs": [
    {
     "name": "stderr",
     "output_type": "stream",
     "text": [
      "/home/nathalia/.pyenv/versions/3.10.6/envs/stocks_vs_behavior/lib/python3.10/site-packages/sklearn/linear_model/_coordinate_descent.py:697: ConvergenceWarning: Objective did not converge. You might want to increase the number of iterations, check the scale of the features or consider increasing regularisation. Duality gap: 2.027e-01, tolerance: 7.310e-02\n",
      "  model = cd_fast.enet_coordinate_descent(\n"
     ]
    }
   ],
   "source": [
    "# Apply Elastic Net\n",
    "# Define parameters\n",
    "alpha = 0.1\n",
    "l1_ratio = 0.5  # Ratio of L1 to L2 penalty (0.5 means equal penalties)\n",
    "\n",
    "# Create Pipeline\n",
    "pipe = Pipeline([\n",
    "    (\"scaler\", StandardScaler()),\n",
    "    ('elasticnet', ElasticNet(alpha=alpha, l1_ratio=l1_ratio))\n",
    "])\n",
    "\n",
    "# Apply .fit\n",
    "pipe.fit(X_train_reshaped, y_train_reshaped)\n",
    "\n",
    "# Apply redict\n",
    "y_pred = pipe.predict(X_test_reshaped)"
   ]
  },
  {
   "cell_type": "markdown",
   "metadata": {},
   "source": [
    "# RNN Model"
   ]
  },
  {
   "cell_type": "code",
   "execution_count": 39,
   "metadata": {},
   "outputs": [],
   "source": [
    "# Padding train and test\n",
    "X_train_pad = pad_sequences(X_train, value=-999, padding='post', dtype='float64')\n",
    "X_test_pad = pad_sequences(X_test, value=-999, padding='post', dtype='float64')"
   ]
  },
  {
   "cell_type": "code",
   "execution_count": 40,
   "metadata": {},
   "outputs": [],
   "source": [
    "# Build the model\n",
    "def rnn_model(rate):\n",
    "    model = Sequential()\n",
    "\n",
    "    model.add(layers.Masking(mask_value=-999))\n",
    "\n",
    "    model.add(\n",
    "        layers.GRU(\n",
    "            units=128,\n",
    "            return_sequences=True,\n",
    "            activation=\"tanh\",\n",
    "            input_shape=X_train_pad[0].shape\n",
    "        )\n",
    "    )\n",
    "\n",
    "    model.add(\n",
    "        layers.GRU(\n",
    "            units=64,\n",
    "            return_sequences=False,\n",
    "            activation=\"tanh\"\n",
    "        )\n",
    "    )\n",
    "\n",
    "    model.add(layers.Dropout(rate=rate))\n",
    "\n",
    "    model.add(layers.Dense(25, activation=\"relu\"))\n",
    "\n",
    "    model.add(layers.Dense(1, activation=\"relu\"))\n",
    "\n",
    "    model.add(layers.Dropout(rate=rate))\n",
    "\n",
    "    my_mae = metrics.MeanAbsoluteError(name='mean_absolute_error', dtype=None)\n",
    "\n",
    "    model.compile(\n",
    "        loss=\"mse\",\n",
    "        optimizer=\"adam\",\n",
    "        metrics=[my_mae]\n",
    "    )\n",
    "\n",
    "    return model\n",
    "\n",
    "model = rnn_model(rate=0.15)"
   ]
  },
  {
   "cell_type": "markdown",
   "metadata": {},
   "source": [
    "# .fit"
   ]
  },
  {
   "cell_type": "code",
   "execution_count": 41,
   "metadata": {},
   "outputs": [
    {
     "name": "stdout",
     "output_type": "stream",
     "text": [
      "Epoch 1/300\n",
      "533/533 [==============================] - 92s 149ms/step - loss: 0.0259 - mean_absolute_error: 0.0779 - val_loss: 0.0228 - val_mean_absolute_error: 0.1495\n",
      "Epoch 2/300\n",
      "533/533 [==============================] - 78s 146ms/step - loss: 0.0252 - mean_absolute_error: 0.0680 - val_loss: 0.0264 - val_mean_absolute_error: 0.1611\n",
      "Epoch 3/300\n",
      "533/533 [==============================] - 75s 141ms/step - loss: 0.0247 - mean_absolute_error: 0.0657 - val_loss: 0.0219 - val_mean_absolute_error: 0.1466\n",
      "Epoch 4/300\n",
      "533/533 [==============================] - 73s 137ms/step - loss: 0.0248 - mean_absolute_error: 0.0641 - val_loss: 0.0280 - val_mean_absolute_error: 0.1656\n",
      "Epoch 5/300\n",
      "533/533 [==============================] - 73s 137ms/step - loss: 0.0238 - mean_absolute_error: 0.0623 - val_loss: 0.0223 - val_mean_absolute_error: 0.1481\n",
      "Epoch 6/300\n",
      "533/533 [==============================] - 76s 142ms/step - loss: 0.0245 - mean_absolute_error: 0.0628 - val_loss: 0.0257 - val_mean_absolute_error: 0.1588\n",
      "Epoch 7/300\n",
      "533/533 [==============================] - 80s 149ms/step - loss: 0.0232 - mean_absolute_error: 0.0598 - val_loss: 0.0246 - val_mean_absolute_error: 0.1556\n",
      "Epoch 8/300\n",
      "533/533 [==============================] - 81s 151ms/step - loss: 0.0259 - mean_absolute_error: 0.0645 - val_loss: 0.0227 - val_mean_absolute_error: 0.1491\n",
      "Epoch 9/300\n",
      "533/533 [==============================] - 80s 150ms/step - loss: 0.0237 - mean_absolute_error: 0.0607 - val_loss: 0.0249 - val_mean_absolute_error: 0.1562\n",
      "Epoch 10/300\n",
      "533/533 [==============================] - 79s 148ms/step - loss: 0.0253 - mean_absolute_error: 0.0639 - val_loss: 0.0322 - val_mean_absolute_error: 0.1779\n",
      "Epoch 11/300\n",
      "533/533 [==============================] - 83s 155ms/step - loss: 0.0263 - mean_absolute_error: 0.0643 - val_loss: 0.0341 - val_mean_absolute_error: 0.1826\n",
      "Epoch 12/300\n",
      "533/533 [==============================] - 80s 151ms/step - loss: 0.0265 - mean_absolute_error: 0.0645 - val_loss: 0.0329 - val_mean_absolute_error: 0.1796\n",
      "Epoch 13/300\n",
      "533/533 [==============================] - 79s 149ms/step - loss: 0.0251 - mean_absolute_error: 0.0622 - val_loss: 0.0382 - val_mean_absolute_error: 0.1933\n",
      "Epoch 14/300\n",
      "533/533 [==============================] - 80s 149ms/step - loss: 0.0249 - mean_absolute_error: 0.0608 - val_loss: 0.0406 - val_mean_absolute_error: 0.1994\n",
      "Epoch 15/300\n",
      "533/533 [==============================] - 77s 144ms/step - loss: 0.0253 - mean_absolute_error: 0.0619 - val_loss: 0.0471 - val_mean_absolute_error: 0.2141\n",
      "Epoch 16/300\n",
      "533/533 [==============================] - 78s 147ms/step - loss: 0.0247 - mean_absolute_error: 0.0597 - val_loss: 0.0388 - val_mean_absolute_error: 0.1948\n",
      "Epoch 17/300\n",
      "533/533 [==============================] - 81s 153ms/step - loss: 0.0241 - mean_absolute_error: 0.0595 - val_loss: 0.0381 - val_mean_absolute_error: 0.1926\n",
      "Epoch 18/300\n",
      "533/533 [==============================] - 80s 151ms/step - loss: 0.0241 - mean_absolute_error: 0.0593 - val_loss: 0.0362 - val_mean_absolute_error: 0.1883\n",
      "Epoch 19/300\n",
      "533/533 [==============================] - 77s 145ms/step - loss: 0.0246 - mean_absolute_error: 0.0602 - val_loss: 0.0416 - val_mean_absolute_error: 0.2012\n",
      "Epoch 20/300\n",
      "533/533 [==============================] - 79s 149ms/step - loss: 0.0245 - mean_absolute_error: 0.0593 - val_loss: 0.0354 - val_mean_absolute_error: 0.1859\n",
      "Epoch 21/300\n",
      "533/533 [==============================] - 77s 144ms/step - loss: 0.0251 - mean_absolute_error: 0.0605 - val_loss: 0.0397 - val_mean_absolute_error: 0.1968\n",
      "Epoch 22/300\n",
      "533/533 [==============================] - 79s 147ms/step - loss: 0.0253 - mean_absolute_error: 0.0609 - val_loss: 0.0488 - val_mean_absolute_error: 0.2183\n",
      "Epoch 23/300\n",
      "533/533 [==============================] - 77s 145ms/step - loss: 0.0264 - mean_absolute_error: 0.0619 - val_loss: 0.0438 - val_mean_absolute_error: 0.2069\n",
      "Epoch 24/300\n",
      "533/533 [==============================] - 78s 146ms/step - loss: 0.0252 - mean_absolute_error: 0.0604 - val_loss: 0.0411 - val_mean_absolute_error: 0.2005\n",
      "Epoch 25/300\n",
      "533/533 [==============================] - 77s 144ms/step - loss: 0.0247 - mean_absolute_error: 0.0594 - val_loss: 0.0419 - val_mean_absolute_error: 0.2027\n",
      "Epoch 26/300\n",
      "533/533 [==============================] - 78s 146ms/step - loss: 0.0244 - mean_absolute_error: 0.0592 - val_loss: 0.0504 - val_mean_absolute_error: 0.2212\n",
      "Epoch 27/300\n",
      "533/533 [==============================] - 77s 144ms/step - loss: 0.0245 - mean_absolute_error: 0.0583 - val_loss: 0.0550 - val_mean_absolute_error: 0.2307\n",
      "Epoch 28/300\n",
      "533/533 [==============================] - 80s 150ms/step - loss: 0.0232 - mean_absolute_error: 0.0561 - val_loss: 0.0535 - val_mean_absolute_error: 0.2272\n"
     ]
    }
   ],
   "source": [
    "es = EarlyStopping(patience = 25, monitor = \"val_mean_absolute_error\")\n",
    "\n",
    "history = model.fit(\n",
    "    X_train_pad,\n",
    "    np.array(y_train),\n",
    "    validation_split = 0.25,\n",
    "    batch_size=16,\n",
    "    epochs=300,\n",
    "    verbose = 1,\n",
    "    callbacks = [es]\n",
    ")"
   ]
  },
  {
   "cell_type": "code",
   "execution_count": 42,
   "metadata": {},
   "outputs": [],
   "source": [
    "# model.save(\n",
    "#     os.path.join(\n",
    "#         os.path.abspath('../'),\n",
    "#         'models',\n",
    "#         'aapl_per_hour_model_with_gru_and_avg_score_per_label_v4.keras'\n",
    "#     )\n",
    "# )"
   ]
  },
  {
   "cell_type": "markdown",
   "metadata": {},
   "source": [
    "### Results"
   ]
  },
  {
   "cell_type": "code",
   "execution_count": 43,
   "metadata": {},
   "outputs": [
    {
     "name": "stdout",
     "output_type": "stream",
     "text": [
      "loss  =  0.024848520888813903\n",
      "mean_absolute_error  =  0.062079064681061676\n",
      "val_loss  =  0.036023315973579884\n",
      "val_mean_absolute_error  =  0.18588023047362054\n"
     ]
    }
   ],
   "source": [
    "for i in history.history.keys():\n",
    "    value = np.mean(history.history[i])\n",
    "    print(i, \" = \", value)"
   ]
  },
  {
   "cell_type": "code",
   "execution_count": 44,
   "metadata": {},
   "outputs": [
    {
     "data": {
      "text/plain": [
       "-9.990958213806152"
      ]
     },
     "execution_count": 44,
     "metadata": {},
     "output_type": "execute_result"
    }
   ],
   "source": [
    "y_pred = target_scaler.inverse_transform(model.predict(X_test))\n",
    "y_test2 = y_test[:, 0, 0]\n",
    "\n",
    "r2 = r2_score(np.expand_dims(y_test2, -1), model.predict(X_test))\n",
    "r2"
   ]
  },
  {
   "cell_type": "code",
   "execution_count": 45,
   "metadata": {},
   "outputs": [
    {
     "data": {
      "image/png": "[encoded data removed]",
      "text/plain": [
       "<Figure size 2000x500 with 2 Axes>"
      ]
     },
     "metadata": {},
     "output_type": "display_data"
    }
   ],
   "source": [
    "def plot_loss_mae(history):\n",
    "\n",
    "    fig, ax =plt.subplots(1,2,figsize=(20,5))\n",
    "\n",
    "    # --- LOSS\n",
    "\n",
    "    ax[0].plot(history.history['loss'])\n",
    "    ax[0].plot(history.history['val_loss'])\n",
    "    ax[0].set_title('Model loss')\n",
    "    ax[0].set_xlabel('Epoch')\n",
    "    ax[0].set_ylabel('Loss')\n",
    "    ax[0].legend(['Train', 'Val'], loc='upper right')\n",
    "    ax[0].grid(axis=\"x\",linewidth=0.5)\n",
    "    ax[0].grid(axis=\"y\",linewidth=0.5)\n",
    "\n",
    "    # --- MAE\n",
    "\n",
    "    ax[1].plot(history.history['mean_absolute_error'])\n",
    "    ax[1].plot(history.history['val_mean_absolute_error'])\n",
    "    ax[1].set_title('Model MAE', fontsize = 18)\n",
    "    ax[1].set_xlabel('Epoch', fontsize = 14)\n",
    "    ax[1].set_ylabel('Recall', fontsize = 14)\n",
    "    ax[1].legend(['Train', 'Val'], loc='lower right')\n",
    "    ax[1].grid(axis=\"x\",linewidth=0.5)\n",
    "    ax[1].grid(axis=\"y\",linewidth=0.5)\n",
    "\n",
    "    plt.show()\n",
    "\n",
    "plot_loss_mae(history)"
   ]
  },
  {
   "cell_type": "markdown",
   "metadata": {},
   "source": [
    "## GridSearch - Dropout"
   ]
  },
  {
   "cell_type": "code",
   "execution_count": null,
   "metadata": {},
   "outputs": [],
   "source": [
    "def custom_r2(y_true, y_pred):\n",
    "    y_true = y_true.reshape((y_true.shape[0]))\n",
    "    y_pred = y_pred.reshape((y_pred.shape[0]))\n",
    "    return r2_score(y_true=y_true, y_pred=y_pred)"
   ]
  },
  {
   "cell_type": "code",
   "execution_count": null,
   "metadata": {},
   "outputs": [],
   "source": [
    "model_keras = KerasRegressor(build_fn=rnn_model)\n",
    "\n",
    "es = EarlyStopping(patience = 25, monitor = \"val_mean_absolute_error\")\n",
    "\n",
    "grid = {\n",
    "    'rate': [0.15, 0.3, 0.5],\n",
    "}\n",
    "\n",
    "search = GridSearchCV(\n",
    "    model_keras,\n",
    "    grid,\n",
    "    # cv=3,\n",
    "    scoring=make_scorer(custom_r2)\n",
    ")\n",
    "\n",
    "search_result  = search.fit(\n",
    "    X_train_pad,\n",
    "    y_train\n",
    "    # np.array(y_train),\n",
    "    batch_size=16,\n",
    "    validation_split=0.25\n",
    "\n",
    ")"
   ]
  }
 ],
 "metadata": {
  "kernelspec": {
   "display_name": "Python 3 (ipykernel)",
   "language": "python",
   "name": "python3"
  },
  "language_info": {
   "codemirror_mode": {
    "name": "ipython",
    "version": 3
   },
   "file_extension": ".py",
   "mimetype": "text/x-python",
   "name": "python",
   "nbconvert_exporter": "python",
   "pygments_lexer": "ipython3",
   "version": "3.10.6"
  }
 },
 "nbformat": 4,
 "nbformat_minor": 4
}
