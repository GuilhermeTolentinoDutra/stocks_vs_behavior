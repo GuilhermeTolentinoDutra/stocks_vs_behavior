{
 "cells": [
  {
   "cell_type": "code",
   "execution_count": 5,
   "metadata": {},
   "outputs": [],
   "source": [
    "# Import packages\n",
    "import tensorflow as tf\n",
    "import pandas as pd\n",
    "import os\n",
    "import numpy as np\n",
    "import pickle"
   ]
  },
  {
   "cell_type": "code",
   "execution_count": 19,
   "metadata": {},
   "outputs": [],
   "source": [
    "# Load scaler applied to target column\n",
    "with open('target_scaler_model.pkl', 'rb') as f:\n",
    "    target_scaler = pickle.load(f)"
   ]
  },
  {
   "cell_type": "code",
   "execution_count": 4,
   "metadata": {},
   "outputs": [],
   "source": [
    "# Load model -> R² = 0.94\n",
    "new_model = tf.keras.models.load_model(\n",
    "    os.path.join(\n",
    "        os.path.abspath('../'),\n",
    "        'models',\n",
    "        'aapl_model_with_gru_and_avg_score_per_label.keras'\n",
    "    )\n",
    ")"
   ]
  },
  {
   "cell_type": "code",
   "execution_count": 40,
   "metadata": {},
   "outputs": [
    {
     "name": "stderr",
     "output_type": "stream",
     "text": [
      "/home/nathalia/.pyenv/versions/3.10.6/envs/stocks_vs_behavior/lib/python3.10/site-packages/sklearn/base.py:493: UserWarning: X does not have valid feature names, but MinMaxScaler was fitted with feature names\n",
      "  warnings.warn(\n"
     ]
    },
    {
     "data": {
      "text/plain": [
       "array([[1.54517669],\n",
       "       [1.54775233],\n",
       "       [1.55633779],\n",
       "       [1.56457983]])"
      ]
     },
     "execution_count": 40,
     "metadata": {},
     "output_type": "execute_result"
    }
   ],
   "source": [
    "target_scaler.transform(\n",
    "    np.array(\n",
    "        [\n",
    "            [189.99],\n",
    "            [190.29],\n",
    "            [191.29],\n",
    "            [192.25]\n",
    "        ]\n",
    "    )\n",
    ")"
   ]
  },
  {
   "cell_type": "code",
   "execution_count": 49,
   "metadata": {},
   "outputs": [],
   "source": [
    "# price, negative, neutral, positive\n",
    "data = np.array(\n",
    "    [\n",
    "        [1.54517669, 0.002, 0.998, 0], # 28/05\n",
    "        [1.54775233, 0.995, 0.004, 0.001], # 29/05\n",
    "        [1.55633779, 0, 0, 1], # 30/05\n",
    "        [1.56457983, 0.996, 0.003, 0.001], # 31/05\n",
    "    ]\n",
    ")"
   ]
  },
  {
   "cell_type": "code",
   "execution_count": 52,
   "metadata": {},
   "outputs": [
    {
     "name": "stdout",
     "output_type": "stream",
     "text": [
      "\u001b[1m1/1\u001b[0m \u001b[32m━━━━━━━━━━━━━━━━━━━━\u001b[0m\u001b[37m\u001b[0m \u001b[1m5s\u001b[0m 5s/step\n",
      "[[1.4805851]]\n"
     ]
    },
    {
     "data": {
      "text/plain": [
       "array([[182.46663]], dtype=float32)"
      ]
     },
     "execution_count": 52,
     "metadata": {},
     "output_type": "execute_result"
    }
   ],
   "source": [
    "# Real (01/06) -> 192.25\n",
    "pred = new_model.predict(np.expand_dims(data, 0))\n",
    "print(pred)\n",
    "\n",
    "y_pred = target_scaler.inverse_transform(pred)\n",
    "y_pred"
   ]
  }
 ],
 "metadata": {
  "kernelspec": {
   "display_name": "stocks_vs_behavior",
   "language": "python",
   "name": "python3"
  },
  "language_info": {
   "codemirror_mode": {
    "name": "ipython",
    "version": 3
   },
   "file_extension": ".py",
   "mimetype": "text/x-python",
   "name": "python",
   "nbconvert_exporter": "python",
   "pygments_lexer": "ipython3",
   "version": "3.10.6"
  }
 },
 "nbformat": 4,
 "nbformat_minor": 2
}
