{
  "cells": [
    {
      "cell_type": "code",
      "execution_count": 1,
      "metadata": {
        "id": "DRwkWqUiVymD"
      },
      "outputs": [
        {
          "name": "stderr",
          "output_type": "stream",
          "text": [
            "2024-06-01 12:28:03.058974: E tensorflow/stream_executor/cuda/cuda_blas.cc:2981] Unable to register cuBLAS factory: Attempting to register factory for plugin cuBLAS when one has already been registered\n"
          ]
        }
      ],
      "source": [
        "import pandas as pd\n",
        "import numpy as np\n",
        "from sklearn.preprocessing import MinMaxScaler\n",
        "from tensorflow.keras.models import Sequential\n",
        "from tensorflow.keras.layers import Dense, LSTM"
      ]
    },
    {
      "cell_type": "code",
      "execution_count": 2,
      "metadata": {
        "id": "OukiYSLiWrpC"
      },
      "outputs": [],
      "source": [
        "# Carregar o dataframe de cotações de fechamento\n",
        "stock_data = pd.read_csv('raw_data/stock_market_dataset.csv', parse_dates=['Date'])"
      ]
    },
    {
      "cell_type": "code",
      "execution_count": 3,
      "metadata": {},
      "outputs": [],
      "source": [
        "# Pivotar o dataframe para ter os tickers como colunas\n",
        "stock_data_pivoted = stock_data.pivot(index='Date', columns='Stock', values='Close')"
      ]
    },
    {
      "cell_type": "code",
      "execution_count": 4,
      "metadata": {},
      "outputs": [
        {
          "data": {
            "text/html": [
              "<div>\n",
              "<style scoped>\n",
              "    .dataframe tbody tr th:only-of-type {\n",
              "        vertical-align: middle;\n",
              "    }\n",
              "\n",
              "    .dataframe tbody tr th {\n",
              "        vertical-align: top;\n",
              "    }\n",
              "\n",
              "    .dataframe thead th {\n",
              "        text-align: right;\n",
              "    }\n",
              "</style>\n",
              "<table border=\"1\" class=\"dataframe\">\n",
              "  <thead>\n",
              "    <tr style=\"text-align: right;\">\n",
              "      <th>Stock</th>\n",
              "      <th>AAPL</th>\n",
              "      <th>AMZN</th>\n",
              "      <th>GOOGL</th>\n",
              "      <th>MSFT</th>\n",
              "      <th>NVDA</th>\n",
              "    </tr>\n",
              "    <tr>\n",
              "      <th>Date</th>\n",
              "      <th></th>\n",
              "      <th></th>\n",
              "      <th></th>\n",
              "      <th></th>\n",
              "      <th></th>\n",
              "    </tr>\n",
              "  </thead>\n",
              "  <tbody>\n",
              "    <tr>\n",
              "      <th>2008-06-09</th>\n",
              "      <td>23.257</td>\n",
              "      <td>79.43</td>\n",
              "      <td>278.94</td>\n",
              "      <td>23.238</td>\n",
              "      <td>21.978</td>\n",
              "    </tr>\n",
              "    <tr>\n",
              "      <th>2008-06-10</th>\n",
              "      <td>23.774</td>\n",
              "      <td>79.62</td>\n",
              "      <td>277.08</td>\n",
              "      <td>23.389</td>\n",
              "      <td>20.680</td>\n",
              "    </tr>\n",
              "    <tr>\n",
              "      <th>2008-06-11</th>\n",
              "      <td>23.156</td>\n",
              "      <td>77.28</td>\n",
              "      <td>272.60</td>\n",
              "      <td>22.744</td>\n",
              "      <td>19.714</td>\n",
              "    </tr>\n",
              "    <tr>\n",
              "      <th>2008-06-12</th>\n",
              "      <td>22.189</td>\n",
              "      <td>76.15</td>\n",
              "      <td>276.48</td>\n",
              "      <td>23.682</td>\n",
              "      <td>19.837</td>\n",
              "    </tr>\n",
              "    <tr>\n",
              "      <th>2008-06-13</th>\n",
              "      <td>22.074</td>\n",
              "      <td>79.17</td>\n",
              "      <td>285.76</td>\n",
              "      <td>24.377</td>\n",
              "      <td>19.771</td>\n",
              "    </tr>\n",
              "  </tbody>\n",
              "</table>\n",
              "</div>"
            ],
            "text/plain": [
              "Stock         AAPL   AMZN   GOOGL    MSFT    NVDA\n",
              "Date                                             \n",
              "2008-06-09  23.257  79.43  278.94  23.238  21.978\n",
              "2008-06-10  23.774  79.62  277.08  23.389  20.680\n",
              "2008-06-11  23.156  77.28  272.60  22.744  19.714\n",
              "2008-06-12  22.189  76.15  276.48  23.682  19.837\n",
              "2008-06-13  22.074  79.17  285.76  24.377  19.771"
            ]
          },
          "execution_count": 4,
          "metadata": {},
          "output_type": "execute_result"
        }
      ],
      "source": [
        "stock_data_pivoted.head()"
      ]
    },
    {
      "cell_type": "code",
      "execution_count": 21,
      "metadata": {},
      "outputs": [
        {
          "ename": "KeyError",
          "evalue": "(60, 0)",
          "output_type": "error",
          "traceback": [
            "\u001b[0;31m---------------------------------------------------------------------------\u001b[0m",
            "\u001b[0;31mKeyError\u001b[0m                                  Traceback (most recent call last)",
            "File \u001b[0;32m~/.pyenv/versions/lewagon/lib/python3.10/site-packages/pandas/core/indexes/base.py:3629\u001b[0m, in \u001b[0;36mIndex.get_loc\u001b[0;34m(self, key, method, tolerance)\u001b[0m\n\u001b[1;32m   3628\u001b[0m \u001b[38;5;28;01mtry\u001b[39;00m:\n\u001b[0;32m-> 3629\u001b[0m     \u001b[38;5;28;01mreturn\u001b[39;00m \u001b[38;5;28;43mself\u001b[39;49m\u001b[38;5;241;43m.\u001b[39;49m\u001b[43m_engine\u001b[49m\u001b[38;5;241;43m.\u001b[39;49m\u001b[43mget_loc\u001b[49m\u001b[43m(\u001b[49m\u001b[43mcasted_key\u001b[49m\u001b[43m)\u001b[49m\n\u001b[1;32m   3630\u001b[0m \u001b[38;5;28;01mexcept\u001b[39;00m \u001b[38;5;167;01mKeyError\u001b[39;00m \u001b[38;5;28;01mas\u001b[39;00m err:\n",
            "File \u001b[0;32m~/.pyenv/versions/lewagon/lib/python3.10/site-packages/pandas/_libs/index.pyx:136\u001b[0m, in \u001b[0;36mpandas._libs.index.IndexEngine.get_loc\u001b[0;34m()\u001b[0m\n",
            "File \u001b[0;32m~/.pyenv/versions/lewagon/lib/python3.10/site-packages/pandas/_libs/index.pyx:163\u001b[0m, in \u001b[0;36mpandas._libs.index.IndexEngine.get_loc\u001b[0;34m()\u001b[0m\n",
            "File \u001b[0;32mpandas/_libs/hashtable_class_helper.pxi:5198\u001b[0m, in \u001b[0;36mpandas._libs.hashtable.PyObjectHashTable.get_item\u001b[0;34m()\u001b[0m\n",
            "File \u001b[0;32mpandas/_libs/hashtable_class_helper.pxi:5206\u001b[0m, in \u001b[0;36mpandas._libs.hashtable.PyObjectHashTable.get_item\u001b[0;34m()\u001b[0m\n",
            "\u001b[0;31mKeyError\u001b[0m: (60, 0)",
            "\nThe above exception was the direct cause of the following exception:\n",
            "\u001b[0;31mKeyError\u001b[0m                                  Traceback (most recent call last)",
            "Cell \u001b[0;32mIn [21], line 1\u001b[0m\n\u001b[0;32m----> 1\u001b[0m \u001b[43mstock_data\u001b[49m\u001b[43m[\u001b[49m\u001b[38;5;241;43m60\u001b[39;49m\u001b[43m,\u001b[49m\u001b[43m \u001b[49m\u001b[38;5;241;43m0\u001b[39;49m\u001b[43m]\u001b[49m\n",
            "File \u001b[0;32m~/.pyenv/versions/lewagon/lib/python3.10/site-packages/pandas/core/frame.py:3505\u001b[0m, in \u001b[0;36mDataFrame.__getitem__\u001b[0;34m(self, key)\u001b[0m\n\u001b[1;32m   3503\u001b[0m \u001b[38;5;28;01mif\u001b[39;00m \u001b[38;5;28mself\u001b[39m\u001b[38;5;241m.\u001b[39mcolumns\u001b[38;5;241m.\u001b[39mnlevels \u001b[38;5;241m>\u001b[39m \u001b[38;5;241m1\u001b[39m:\n\u001b[1;32m   3504\u001b[0m     \u001b[38;5;28;01mreturn\u001b[39;00m \u001b[38;5;28mself\u001b[39m\u001b[38;5;241m.\u001b[39m_getitem_multilevel(key)\n\u001b[0;32m-> 3505\u001b[0m indexer \u001b[38;5;241m=\u001b[39m \u001b[38;5;28;43mself\u001b[39;49m\u001b[38;5;241;43m.\u001b[39;49m\u001b[43mcolumns\u001b[49m\u001b[38;5;241;43m.\u001b[39;49m\u001b[43mget_loc\u001b[49m\u001b[43m(\u001b[49m\u001b[43mkey\u001b[49m\u001b[43m)\u001b[49m\n\u001b[1;32m   3506\u001b[0m \u001b[38;5;28;01mif\u001b[39;00m is_integer(indexer):\n\u001b[1;32m   3507\u001b[0m     indexer \u001b[38;5;241m=\u001b[39m [indexer]\n",
            "File \u001b[0;32m~/.pyenv/versions/lewagon/lib/python3.10/site-packages/pandas/core/indexes/base.py:3631\u001b[0m, in \u001b[0;36mIndex.get_loc\u001b[0;34m(self, key, method, tolerance)\u001b[0m\n\u001b[1;32m   3629\u001b[0m     \u001b[38;5;28;01mreturn\u001b[39;00m \u001b[38;5;28mself\u001b[39m\u001b[38;5;241m.\u001b[39m_engine\u001b[38;5;241m.\u001b[39mget_loc(casted_key)\n\u001b[1;32m   3630\u001b[0m \u001b[38;5;28;01mexcept\u001b[39;00m \u001b[38;5;167;01mKeyError\u001b[39;00m \u001b[38;5;28;01mas\u001b[39;00m err:\n\u001b[0;32m-> 3631\u001b[0m     \u001b[38;5;28;01mraise\u001b[39;00m \u001b[38;5;167;01mKeyError\u001b[39;00m(key) \u001b[38;5;28;01mfrom\u001b[39;00m \u001b[38;5;21;01merr\u001b[39;00m\n\u001b[1;32m   3632\u001b[0m \u001b[38;5;28;01mexcept\u001b[39;00m \u001b[38;5;167;01mTypeError\u001b[39;00m:\n\u001b[1;32m   3633\u001b[0m     \u001b[38;5;66;03m# If we have a listlike key, _check_indexing_error will raise\u001b[39;00m\n\u001b[1;32m   3634\u001b[0m     \u001b[38;5;66;03m#  InvalidIndexError. Otherwise we fall through and re-raise\u001b[39;00m\n\u001b[1;32m   3635\u001b[0m     \u001b[38;5;66;03m#  the TypeError.\u001b[39;00m\n\u001b[1;32m   3636\u001b[0m     \u001b[38;5;28mself\u001b[39m\u001b[38;5;241m.\u001b[39m_check_indexing_error(key)\n",
            "\u001b[0;31mKeyError\u001b[0m: (60, 0)"
          ]
        }
      ],
      "source": [
        "stock_data[60, 0]"
      ]
    },
    {
      "cell_type": "code",
      "execution_count": 5,
      "metadata": {},
      "outputs": [],
      "source": [
        "# Carregar o dataframe de notícias com análise de sentimento\n",
        "news_data = pd.read_csv('raw_data/reddit_data.csv', parse_dates=['Date'])"
      ]
    },
    {
      "cell_type": "code",
      "execution_count": 6,
      "metadata": {},
      "outputs": [],
      "source": [
        "# Mapear os valores de sentimento para números\n",
        "sentiment_mapping = {'positive': 1, 'neutral': 0, 'negative': -1}\n",
        "news_data['Sentiment'] = news_data['Label'].map(sentiment_mapping)"
      ]
    },
    {
      "cell_type": "code",
      "execution_count": 7,
      "metadata": {},
      "outputs": [
        {
          "data": {
            "text/html": [
              "<div>\n",
              "<style scoped>\n",
              "    .dataframe tbody tr th:only-of-type {\n",
              "        vertical-align: middle;\n",
              "    }\n",
              "\n",
              "    .dataframe tbody tr th {\n",
              "        vertical-align: top;\n",
              "    }\n",
              "\n",
              "    .dataframe thead th {\n",
              "        text-align: right;\n",
              "    }\n",
              "</style>\n",
              "<table border=\"1\" class=\"dataframe\">\n",
              "  <thead>\n",
              "    <tr style=\"text-align: right;\">\n",
              "      <th></th>\n",
              "      <th>Date</th>\n",
              "      <th>News</th>\n",
              "      <th>Label</th>\n",
              "      <th>Score</th>\n",
              "      <th>Sentiment</th>\n",
              "    </tr>\n",
              "  </thead>\n",
              "  <tbody>\n",
              "    <tr>\n",
              "      <th>0</th>\n",
              "      <td>2016-07-01</td>\n",
              "      <td>A 117-year-old woman in Mexico City finally re...</td>\n",
              "      <td>neutral</td>\n",
              "      <td>1.00</td>\n",
              "      <td>0</td>\n",
              "    </tr>\n",
              "    <tr>\n",
              "      <th>1</th>\n",
              "      <td>2016-07-01</td>\n",
              "      <td>IMF chief backs Athens as permanent Olympic host</td>\n",
              "      <td>neutral</td>\n",
              "      <td>1.00</td>\n",
              "      <td>0</td>\n",
              "    </tr>\n",
              "    <tr>\n",
              "      <th>2</th>\n",
              "      <td>2016-07-01</td>\n",
              "      <td>The president of France says if Brexit won, so...</td>\n",
              "      <td>neutral</td>\n",
              "      <td>1.00</td>\n",
              "      <td>0</td>\n",
              "    </tr>\n",
              "    <tr>\n",
              "      <th>3</th>\n",
              "      <td>2016-07-01</td>\n",
              "      <td>British Man Who Must Give Police 24 Hours' Not...</td>\n",
              "      <td>neutral</td>\n",
              "      <td>1.00</td>\n",
              "      <td>0</td>\n",
              "    </tr>\n",
              "    <tr>\n",
              "      <th>4</th>\n",
              "      <td>2016-07-01</td>\n",
              "      <td>100+ Nobel laureates urge Greenpeace to stop o...</td>\n",
              "      <td>neutral</td>\n",
              "      <td>1.00</td>\n",
              "      <td>0</td>\n",
              "    </tr>\n",
              "    <tr>\n",
              "      <th>5</th>\n",
              "      <td>2016-07-01</td>\n",
              "      <td>Brazil: Huge spike in number of police killing...</td>\n",
              "      <td>negative</td>\n",
              "      <td>0.95</td>\n",
              "      <td>-1</td>\n",
              "    </tr>\n",
              "  </tbody>\n",
              "</table>\n",
              "</div>"
            ],
            "text/plain": [
              "        Date                                               News     Label  \\\n",
              "0 2016-07-01  A 117-year-old woman in Mexico City finally re...   neutral   \n",
              "1 2016-07-01   IMF chief backs Athens as permanent Olympic host   neutral   \n",
              "2 2016-07-01  The president of France says if Brexit won, so...   neutral   \n",
              "3 2016-07-01  British Man Who Must Give Police 24 Hours' Not...   neutral   \n",
              "4 2016-07-01  100+ Nobel laureates urge Greenpeace to stop o...   neutral   \n",
              "5 2016-07-01  Brazil: Huge spike in number of police killing...  negative   \n",
              "\n",
              "   Score  Sentiment  \n",
              "0   1.00          0  \n",
              "1   1.00          0  \n",
              "2   1.00          0  \n",
              "3   1.00          0  \n",
              "4   1.00          0  \n",
              "5   0.95         -1  "
            ]
          },
          "execution_count": 7,
          "metadata": {},
          "output_type": "execute_result"
        }
      ],
      "source": [
        "news_data.head(6)"
      ]
    },
    {
      "cell_type": "code",
      "execution_count": 8,
      "metadata": {},
      "outputs": [],
      "source": [
        "# Normalizar os dados de preços de ações\n",
        "scaler = MinMaxScaler()\n",
        "scaled_stock_data = scaler.fit_transform(stock_data_pivoted)"
      ]
    },
    {
      "cell_type": "code",
      "execution_count": 9,
      "metadata": {},
      "outputs": [
        {
          "data": {
            "text/plain": [
              "array([[0.11369724, 0.06404986, 0.22581324, 0.2525657 , 0.38649861],\n",
              "       [0.11813592, 0.06432394, 0.22301726, 0.25618646, 0.35610106],\n",
              "       [0.11283011, 0.06094834, 0.21628285, 0.24072031, 0.33347853],\n",
              "       ...,\n",
              "       [0.70332086, 0.98156403, 0.85152727, 0.87137924, 0.9564411 ],\n",
              "       [0.71334867, 0.98179484, 0.8640641 , 0.8860541 , 0.96557442],\n",
              "       [0.71576977, 0.99622048, 0.87416571, 0.88581431, 0.95737785]])"
            ]
          },
          "execution_count": 9,
          "metadata": {},
          "output_type": "execute_result"
        }
      ],
      "source": [
        "scaled_stock_data"
      ]
    },
    {
      "cell_type": "code",
      "execution_count": 10,
      "metadata": {
        "id": "qi7LR0FVWuOy"
      },
      "outputs": [],
      "source": [
        "# Preparar dados para RNN\n",
        "def prepare_data(stock_data, news_data, time_step=60):\n",
        "    X, y = [], []\n",
        "    for i in range(time_step, len(stock_data)):\n",
        "        X.append(stock_data[i-time_step:i])\n",
        "        y.append(stock_data[i, 0])  # Prevendo a ação da primeira coluna (provavelmente AAPL)\n",
        "\n",
        "    X, y = np.array(X), np.array(y)\n",
        "\n",
        "    # Incorporar dados de notícias\n",
        "    sentiment_array = news_data['Sentiment'].values[:len(y)]\n",
        "    sentiment_array = sentiment_array.reshape(-1, 1, 1)  # Reshape para 3D\n",
        "\n",
        "    # Repetir o sentimento para se alinhar com o número de timesteps\n",
        "    sentiment_array = np.repeat(sentiment_array, time_step, axis=1)\n",
        "\n",
        "    # Concatenar o sentimento com os dados de preços\n",
        "    X = np.concatenate((X, sentiment_array), axis=2)\n",
        "\n",
        "    return X, y\n"
      ]
    },
    {
      "cell_type": "code",
      "execution_count": 11,
      "metadata": {
        "id": "pDY7YW03X2Hi"
      },
      "outputs": [],
      "source": [
        "# Preparar os dados\n",
        "X, y = prepare_data(scaled_stock_data, news_data)"
      ]
    },
    {
      "cell_type": "code",
      "execution_count": 12,
      "metadata": {
        "id": "tLR0-c8xX2AJ"
      },
      "outputs": [],
      "source": [
        "# Construir o modelo RNN com LSTM\n",
        "model = Sequential()\n",
        "model.add(LSTM(units=50, return_sequences=True, input_shape=(X.shape[1], X.shape[2])))\n",
        "model.add(LSTM(units=50))\n",
        "model.add(Dense(1))\n",
        "\n",
        "model.compile(optimizer='adam', loss='mean_squared_error')"
      ]
    },
    {
      "cell_type": "code",
      "execution_count": 13,
      "metadata": {
        "id": "I11sCiL1X120"
      },
      "outputs": [
        {
          "name": "stdout",
          "output_type": "stream",
          "text": [
            "Epoch 1/20\n",
            "62/62 [==============================] - 14s 151ms/step - loss: 0.0148\n",
            "Epoch 2/20\n",
            "62/62 [==============================] - 9s 145ms/step - loss: 7.9110e-04\n",
            "Epoch 3/20\n",
            "62/62 [==============================] - 9s 143ms/step - loss: 6.8613e-04\n",
            "Epoch 4/20\n",
            "62/62 [==============================] - 7s 113ms/step - loss: 7.9106e-04\n",
            "Epoch 5/20\n",
            "62/62 [==============================] - 7s 118ms/step - loss: 7.3165e-04\n",
            "Epoch 6/20\n",
            "62/62 [==============================] - 7s 110ms/step - loss: 6.2295e-04\n",
            "Epoch 7/20\n",
            "62/62 [==============================] - 7s 111ms/step - loss: 7.7581e-04\n",
            "Epoch 8/20\n",
            "62/62 [==============================] - 7s 116ms/step - loss: 5.9759e-04\n",
            "Epoch 9/20\n",
            "62/62 [==============================] - 7s 115ms/step - loss: 5.5512e-04\n",
            "Epoch 10/20\n",
            "62/62 [==============================] - 8s 121ms/step - loss: 5.8195e-04\n",
            "Epoch 11/20\n",
            "62/62 [==============================] - 7s 108ms/step - loss: 6.0183e-04\n",
            "Epoch 12/20\n",
            "62/62 [==============================] - 7s 110ms/step - loss: 4.5938e-04\n",
            "Epoch 13/20\n",
            "62/62 [==============================] - 7s 111ms/step - loss: 3.9117e-04\n",
            "Epoch 14/20\n",
            "62/62 [==============================] - 7s 120ms/step - loss: 4.4893e-04\n",
            "Epoch 15/20\n",
            "62/62 [==============================] - 7s 109ms/step - loss: 4.3950e-04\n",
            "Epoch 16/20\n",
            "62/62 [==============================] - 7s 111ms/step - loss: 3.8388e-04\n",
            "Epoch 17/20\n",
            "62/62 [==============================] - 7s 109ms/step - loss: 3.3581e-04\n",
            "Epoch 18/20\n",
            "62/62 [==============================] - 7s 110ms/step - loss: 3.2608e-04\n",
            "Epoch 19/20\n",
            "62/62 [==============================] - 7s 117ms/step - loss: 3.4390e-04\n",
            "Epoch 20/20\n",
            "62/62 [==============================] - 7s 112ms/step - loss: 3.2647e-04\n"
          ]
        },
        {
          "data": {
            "text/plain": [
              "<keras.callbacks.History at 0x7f3b941fd960>"
            ]
          },
          "execution_count": 13,
          "metadata": {},
          "output_type": "execute_result"
        }
      ],
      "source": [
        "# Treinar o modelo\n",
        "model.fit(X, y, epochs=20, batch_size=32)"
      ]
    },
    {
      "cell_type": "code",
      "execution_count": null,
      "metadata": {
        "id": "oMbhRe7TX78o"
      },
      "outputs": [],
      "source": [
        "# Previsão de novos dados (exemplo)\n",
        "# new_data = ... (dados de entrada a serem previstos)\n",
        "# predictions = model.predict(new_data)"
      ]
    },
    {
      "cell_type": "code",
      "execution_count": 15,
      "metadata": {
        "id": "Y0K2qvgQX7xN"
      },
      "outputs": [
        {
          "name": "stdout",
          "output_type": "stream",
          "text": [
            "[array([[ 0.03758971,  0.18661875, -0.11829011, ...,  0.07422014,\n",
            "         0.04752044,  0.00930904],\n",
            "       [ 0.10766185,  0.03303375, -0.11221252, ..., -0.03335897,\n",
            "        -0.1635173 , -0.08769655],\n",
            "       [ 0.17470485,  0.14479712, -0.01975338, ...,  0.04591226,\n",
            "        -0.11250095,  0.00678541],\n",
            "       [ 0.15491395, -0.03868248,  0.04278235, ...,  0.03991653,\n",
            "         0.15877108,  0.13263021],\n",
            "       [-0.06864773,  0.07442369, -0.02666946, ...,  0.10223538,\n",
            "        -0.1323253 , -0.01295845],\n",
            "       [ 0.15221061, -0.02237999, -0.04146862, ...,  0.03982652,\n",
            "        -0.12006549,  0.09525693]], dtype=float32), array([[-0.05562356,  0.05541499, -0.11051937, ..., -0.11190971,\n",
            "        -0.02898152, -0.06123189],\n",
            "       [ 0.00064422,  0.06079299,  0.05422154, ..., -0.08015168,\n",
            "        -0.06441937,  0.09437943],\n",
            "       [ 0.0356468 ,  0.03335513,  0.1289006 , ...,  0.09638293,\n",
            "        -0.10691893, -0.02387763],\n",
            "       ...,\n",
            "       [ 0.12805435, -0.03677482, -0.04497025, ...,  0.03914598,\n",
            "        -0.0940793 ,  0.05552682],\n",
            "       [ 0.1567438 ,  0.0745348 ,  0.03372589, ..., -0.10841355,\n",
            "         0.06212666, -0.09379841],\n",
            "       [ 0.09218093, -0.01373377, -0.03619397, ...,  0.07970872,\n",
            "         0.02282956, -0.12652719]], dtype=float32), array([ 1.02471644e-02,  8.55357759e-03,  3.11029283e-03, -1.11222183e-02,\n",
            "        3.94039461e-03,  1.62716932e-03,  5.00033639e-05, -3.45261628e-03,\n",
            "        6.46255352e-03, -5.61850320e-04, -8.97038449e-03,  1.40821654e-02,\n",
            "       -1.16533646e-02,  3.41275590e-03, -1.83391701e-02,  3.11209960e-03,\n",
            "        1.50441173e-02, -5.86520554e-03, -1.81886519e-03,  3.34640685e-03,\n",
            "        3.36930640e-02, -6.86371094e-03, -7.78986188e-03,  2.79762200e-03,\n",
            "        7.35522620e-03, -1.01974867e-02, -8.36048182e-03,  4.02018940e-03,\n",
            "       -9.30047315e-03,  2.25738622e-03, -4.42720158e-03,  2.48729181e-03,\n",
            "       -8.36367812e-03, -9.54301190e-03, -2.31434461e-02, -4.68397001e-03,\n",
            "       -8.89397878e-03, -4.65473952e-03,  2.04134174e-02, -1.21453507e-02,\n",
            "       -1.35623720e-02,  1.04478225e-02, -8.79896712e-03,  1.29449219e-01,\n",
            "        2.00918652e-02, -3.67610157e-03,  3.41057265e-03, -1.04520088e-02,\n",
            "       -1.04825366e-02, -6.87315624e-05,  1.00397754e+00,  1.00055671e+00,\n",
            "        9.94221151e-01,  9.89391387e-01,  1.00063741e+00,  9.99248385e-01,\n",
            "        9.91824269e-01,  9.96100008e-01,  1.00144637e+00,  9.95671570e-01,\n",
            "        9.92862642e-01,  9.99213278e-01,  9.84878361e-01,  9.96918738e-01,\n",
            "        9.75592732e-01,  1.00115848e+00,  1.00320387e+00,  9.88622189e-01,\n",
            "        9.96271968e-01,  9.96028721e-01,  1.01829398e+00,  9.95926082e-01,\n",
            "        9.89971757e-01,  9.97290492e-01,  1.00022638e+00,  9.90226746e-01,\n",
            "        9.92447197e-01,  9.94517446e-01,  9.89678204e-01,  9.98911977e-01,\n",
            "        9.95953441e-01,  9.96501148e-01,  9.90141928e-01,  9.90355313e-01,\n",
            "        9.80326593e-01,  9.89433825e-01,  9.84921455e-01,  9.90415394e-01,\n",
            "        1.00399745e+00,  9.87861633e-01,  9.84674513e-01,  9.94745314e-01,\n",
            "        9.90853548e-01,  1.05052876e+00,  1.00071800e+00,  9.95597899e-01,\n",
            "        9.99113202e-01,  9.87416744e-01,  9.87356722e-01,  9.90591884e-01,\n",
            "        2.13806471e-03, -1.24910893e-03, -1.03913667e-02,  5.58840809e-03,\n",
            "       -4.08118824e-03,  6.99582137e-03,  6.28786220e-04,  1.43119437e-03,\n",
            "       -1.47012805e-04,  3.63625516e-03, -5.27698360e-03, -4.55398113e-03,\n",
            "        1.13443425e-02, -7.10689346e-04,  8.77564214e-03, -6.68707653e-04,\n",
            "        5.86361624e-03, -1.44056277e-02, -6.13310467e-03,  4.10838425e-03,\n",
            "        1.07141174e-02, -4.59762476e-03, -1.04274135e-02,  1.05215621e-03,\n",
            "       -2.64364964e-04,  8.47497582e-03,  8.64733662e-03,  4.78067063e-03,\n",
            "       -4.15260950e-03, -3.08735669e-03,  1.83823088e-03, -1.00698750e-02,\n",
            "       -5.18447720e-03, -8.39582551e-03, -1.81851387e-02, -3.87450331e-03,\n",
            "        2.96769943e-03, -2.33340170e-02, -8.71988852e-03, -9.09977010e-04,\n",
            "        1.20610483e-02, -1.28721758e-05, -1.25543773e-02,  1.11205699e-02,\n",
            "        1.62661336e-02, -9.59053263e-03, -6.23690942e-03,  2.42334101e-02,\n",
            "       -6.86297892e-03, -3.58295650e-03,  1.11503573e-02,  1.05074234e-02,\n",
            "       -1.33382995e-03, -1.10113407e-02, -4.47653176e-04,  1.98531849e-03,\n",
            "        9.80130513e-04, -4.62675141e-03,  6.54792972e-03,  1.32440403e-03,\n",
            "       -8.61328933e-03,  1.40412245e-02, -1.25716617e-02,  1.47540669e-03,\n",
            "       -1.79965496e-02,  4.84588416e-03,  1.62390918e-02, -6.13953732e-03,\n",
            "       -1.07545347e-03,  3.61722382e-03,  3.26349661e-02, -1.49602871e-02,\n",
            "       -7.35681970e-03,  3.24337254e-03,  8.12385138e-03, -1.01953493e-02,\n",
            "       -7.98986480e-03,  5.24523715e-03, -9.24764760e-03,  2.20417418e-03,\n",
            "       -4.69428953e-03,  2.15876801e-03, -8.57965555e-03, -8.89851898e-03,\n",
            "       -2.33662799e-02, -4.23579384e-03, -8.12897366e-03, -4.45446186e-03,\n",
            "        2.26179548e-02, -1.07185906e-02, -1.26207964e-02,  1.23791508e-02,\n",
            "       -7.15396693e-03,  1.27624050e-01,  1.96270477e-02, -3.97228030e-03,\n",
            "        3.09068523e-03, -1.06108449e-02, -1.08867269e-02, -3.54703167e-04],\n",
            "      dtype=float32), array([[ 0.08978007, -0.01433485,  0.03753714, ..., -0.0352523 ,\n",
            "        -0.14011529,  0.02931648],\n",
            "       [-0.0664666 ,  0.05904836, -0.04026606, ...,  0.14020969,\n",
            "         0.069986  ,  0.00633173],\n",
            "       [-0.03414095,  0.07211839, -0.01155072, ..., -0.04375209,\n",
            "         0.10012518, -0.13142459],\n",
            "       ...,\n",
            "       [ 0.03213274,  0.03279402,  0.0672028 , ...,  0.05692424,\n",
            "         0.07114712, -0.10643003],\n",
            "       [-0.15115471,  0.148693  , -0.08808082, ..., -0.00034147,\n",
            "        -0.00556099, -0.1378962 ],\n",
            "       [-0.14573827, -0.13577239,  0.0920973 , ...,  0.07384504,\n",
            "        -0.06393309, -0.07117584]], dtype=float32), array([[ 0.10988096, -0.08879104,  0.02241299, ..., -0.03841588,\n",
            "         0.07115927, -0.10042679],\n",
            "       [ 0.0323851 , -0.12356847, -0.05938992, ..., -0.03940327,\n",
            "         0.01302232, -0.10355099],\n",
            "       [ 0.06409448, -0.04365627,  0.00601404, ...,  0.03930579,\n",
            "        -0.03094321,  0.00065601],\n",
            "       ...,\n",
            "       [ 0.07305872,  0.10633167, -0.03539588, ...,  0.07983829,\n",
            "         0.07702017, -0.00342404],\n",
            "       [-0.04581533,  0.02203225,  0.11249621, ..., -0.05165901,\n",
            "         0.02443786, -0.06046811],\n",
            "       [-0.10717592,  0.1437645 ,  0.02624011, ..., -0.02867885,\n",
            "        -0.05767708, -0.03480336]], dtype=float32), array([-6.3983505e-03, -1.3877024e-03, -1.1784049e-02, -5.4594208e-03,\n",
            "       -1.7415289e-03,  1.0081092e-03, -5.6212647e-03,  3.6985040e-02,\n",
            "       -4.2782212e-03,  2.8550243e-03,  3.9697387e-03, -2.2397286e-03,\n",
            "       -8.5395547e-03, -3.3287382e-05, -1.5966900e-02,  2.9536127e-03,\n",
            "        1.1045702e-03,  1.9741787e-03,  6.6755624e-03,  2.2259304e-02,\n",
            "       -6.8413978e-03,  1.5571894e-03,  1.2651353e-01, -1.6052021e-02,\n",
            "        2.7411748e-03,  2.4257619e-02,  8.8520043e-02,  7.5420382e-04,\n",
            "        2.5418473e-02,  2.1932684e-03,  4.9332562e-03, -9.8130610e-03,\n",
            "       -7.6245172e-03,  1.5852159e-03, -1.9910311e-02,  5.8476203e-03,\n",
            "       -9.0589123e-03,  5.2373372e-03, -2.6415964e-03, -1.4212558e-02,\n",
            "        2.0852698e-02, -1.4947912e-02,  6.2725861e-03, -1.8326298e-03,\n",
            "       -1.6890958e-02,  6.8079759e-03,  1.9617507e-03, -2.0451162e-03,\n",
            "       -3.6946333e-03,  1.8451299e-04,  9.9166715e-01,  9.9396610e-01,\n",
            "        9.8782110e-01,  9.8977947e-01,  9.9508417e-01,  9.9004114e-01,\n",
            "        9.9309081e-01,  1.0072308e+00,  9.9615455e-01,  9.9818397e-01,\n",
            "        9.9793541e-01,  9.9706477e-01,  9.9267352e-01,  9.9660301e-01,\n",
            "        9.8241687e-01,  9.9854612e-01,  1.0002115e+00,  9.9860650e-01,\n",
            "        1.0039233e+00,  1.0016186e+00,  9.9096918e-01,  9.9845684e-01,\n",
            "        1.0342379e+00,  9.8058200e-01,  9.9468178e-01,  1.0002275e+00,\n",
            "        1.0042584e+00,  9.9760848e-01,  9.9908835e-01,  9.9500883e-01,\n",
            "        9.9946409e-01,  9.9012554e-01,  9.8950881e-01,  9.9919540e-01,\n",
            "        9.8040110e-01,  1.0012057e+00,  9.8934311e-01,  1.0018038e+00,\n",
            "        9.9206692e-01,  9.8349661e-01,  9.9956441e-01,  9.8294669e-01,\n",
            "        9.9757481e-01,  9.9551374e-01,  9.8592281e-01,  9.9921131e-01,\n",
            "        9.9965280e-01,  9.8317170e-01,  9.9075955e-01,  9.9579841e-01,\n",
            "        2.1501372e-03, -5.9209019e-04, -4.0701190e-03, -7.0340252e-03,\n",
            "        2.0648357e-03,  8.0459379e-03, -3.7073768e-03, -3.5285207e-03,\n",
            "       -2.5455118e-03, -2.8245262e-04,  9.5204677e-04, -3.9193458e-03,\n",
            "       -4.6583726e-03,  2.1300921e-03, -7.0656389e-03, -4.7984961e-03,\n",
            "        2.3511497e-03,  6.0487147e-03,  1.1243002e-03, -6.2305988e-03,\n",
            "        1.2220081e-03, -2.2264903e-03, -2.7444181e-03,  6.1588553e-03,\n",
            "       -1.3889010e-03, -2.0207083e-03, -1.2818148e-02, -4.9408497e-03,\n",
            "       -9.1093685e-03, -5.5853110e-03,  2.6662075e-03, -8.7491041e-03,\n",
            "        5.7119559e-03, -3.2932092e-03,  6.2066247e-04, -2.9723526e-03,\n",
            "       -5.4653930e-03,  2.3452910e-03, -3.9662947e-03,  3.2893796e-03,\n",
            "       -6.4601442e-03, -3.2887212e-03, -4.7220760e-03,  4.6657859e-03,\n",
            "        4.6109208e-03, -2.4068390e-03, -3.9322414e-03,  1.9074697e-02,\n",
            "       -5.1397653e-03, -2.2668866e-03, -6.3496213e-03, -1.6508104e-03,\n",
            "       -1.1900663e-02, -5.6117335e-03, -1.7780811e-03, -1.8169241e-03,\n",
            "       -5.2700751e-03,  3.6076188e-02, -3.9316155e-03,  3.1944939e-03,\n",
            "        3.5563891e-03, -2.3295765e-03, -9.2085116e-03, -1.1095018e-03,\n",
            "       -1.5450794e-02,  1.6254000e-03,  1.2148903e-03,  1.8946792e-03,\n",
            "        6.8897987e-03,  2.0748621e-02, -6.0211057e-03,  9.4289740e-04,\n",
            "        1.2120329e-01, -1.6165430e-02,  3.6426662e-03,  2.4253335e-02,\n",
            "        7.9866551e-02, -3.8535194e-04,  2.4894200e-02,  2.3481636e-03,\n",
            "        4.0800897e-03, -9.9028889e-03, -8.0665983e-03,  8.3405228e-04,\n",
            "       -1.9356187e-02,  5.5135549e-03, -8.7904958e-03,  5.2650347e-03,\n",
            "       -2.6139524e-03, -1.4269387e-02,  1.8858084e-02, -1.5761254e-02,\n",
            "        4.6328250e-03, -2.9190560e-03, -1.6791817e-02,  6.3697803e-03,\n",
            "       -3.5653153e-04, -4.8190207e-04, -3.9149085e-03,  1.7242575e-04],\n",
            "      dtype=float32), array([[ 0.23488733],\n",
            "       [-0.16495359],\n",
            "       [-0.2618606 ],\n",
            "       [-0.29583013],\n",
            "       [-0.06294443],\n",
            "       [ 0.14533706],\n",
            "       [-0.2367563 ],\n",
            "       [-0.16921245],\n",
            "       [-0.081886  ],\n",
            "       [ 0.0726099 ],\n",
            "       [ 0.19363223],\n",
            "       [-0.31033427],\n",
            "       [-0.30087736],\n",
            "       [ 0.27883074],\n",
            "       [-0.06409499],\n",
            "       [-0.2948109 ],\n",
            "       [-0.03564406],\n",
            "       [ 0.16061112],\n",
            "       [ 0.09810948],\n",
            "       [-0.279738  ],\n",
            "       [ 0.12535083],\n",
            "       [-0.22062331],\n",
            "       [-0.35875154],\n",
            "       [ 0.06636457],\n",
            "       [-0.16112708],\n",
            "       [-0.28839666],\n",
            "       [ 0.2191376 ],\n",
            "       [-0.30382818],\n",
            "       [-0.2180122 ],\n",
            "       [-0.18397132],\n",
            "       [ 0.3366014 ],\n",
            "       [-0.16149698],\n",
            "       [ 0.04808342],\n",
            "       [-0.04906704],\n",
            "       [ 0.307242  ],\n",
            "       [-0.19688147],\n",
            "       [-0.25761813],\n",
            "       [ 0.28368527],\n",
            "       [-0.25929567],\n",
            "       [ 0.27748713],\n",
            "       [-0.05110368],\n",
            "       [-0.0352281 ],\n",
            "       [-0.26308873],\n",
            "       [ 0.16886075],\n",
            "       [ 0.07056117],\n",
            "       [ 0.11350682],\n",
            "       [-0.12684782],\n",
            "       [-0.06005657],\n",
            "       [-0.23106417],\n",
            "       [-0.15913726]], dtype=float32), array([0.00449452], dtype=float32)]\n"
          ]
        }
      ],
      "source": [
        "# Avaliar o impacto das notícias (Análise de Sentimento)\n",
        "impact_weights = model.get_weights()\n",
        "print(impact_weights)"
      ]
    },
    {
      "cell_type": "code",
      "execution_count": null,
      "metadata": {},
      "outputs": [],
      "source": []
    }
  ],
  "metadata": {
    "colab": {
      "provenance": []
    },
    "kernelspec": {
      "display_name": "Python 3",
      "name": "python3"
    },
    "language_info": {
      "codemirror_mode": {
        "name": "ipython",
        "version": 3
      },
      "file_extension": ".py",
      "mimetype": "text/x-python",
      "name": "python",
      "nbconvert_exporter": "python",
      "pygments_lexer": "ipython3",
      "version": "3.10.6"
    }
  },
  "nbformat": 4,
  "nbformat_minor": 0
}
