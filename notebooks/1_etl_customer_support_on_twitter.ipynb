{
 "cells": [
  {
   "cell_type": "code",
   "execution_count": 1,
   "metadata": {},
   "outputs": [],
   "source": [
    "# Import packages\n",
    "import pandas as pd\n",
    "import os"
   ]
  },
  {
   "cell_type": "markdown",
   "metadata": {},
   "source": [
    "# Extract"
   ]
  },
  {
   "cell_type": "code",
   "execution_count": 2,
   "metadata": {},
   "outputs": [],
   "source": [
    "customer_support_path = os.path.join(\n",
    "    os.path.abspath('../'),\n",
    "    'data',\n",
    "    'raw',\n",
    "    'customer_suport_on_twitter',\n",
    "    'twcs'\n",
    ")"
   ]
  },
  {
   "cell_type": "code",
   "execution_count": 4,
   "metadata": {},
   "outputs": [
    {
     "data": {
      "text/html": [
       "<div>\n",
       "<style scoped>\n",
       "    .dataframe tbody tr th:only-of-type {\n",
       "        vertical-align: middle;\n",
       "    }\n",
       "\n",
       "    .dataframe tbody tr th {\n",
       "        vertical-align: top;\n",
       "    }\n",
       "\n",
       "    .dataframe thead th {\n",
       "        text-align: right;\n",
       "    }\n",
       "</style>\n",
       "<table border=\"1\" class=\"dataframe\">\n",
       "  <thead>\n",
       "    <tr style=\"text-align: right;\">\n",
       "      <th></th>\n",
       "      <th>tweet_id</th>\n",
       "      <th>author_id</th>\n",
       "      <th>inbound</th>\n",
       "      <th>created_at</th>\n",
       "      <th>text</th>\n",
       "      <th>response_tweet_id</th>\n",
       "      <th>in_response_to_tweet_id</th>\n",
       "    </tr>\n",
       "  </thead>\n",
       "  <tbody>\n",
       "    <tr>\n",
       "      <th>0</th>\n",
       "      <td>1</td>\n",
       "      <td>sprintcare</td>\n",
       "      <td>False</td>\n",
       "      <td>Tue Oct 31 22:10:47 +0000 2017</td>\n",
       "      <td>@115712 I understand. I would like to assist y...</td>\n",
       "      <td>2</td>\n",
       "      <td>3.0</td>\n",
       "    </tr>\n",
       "    <tr>\n",
       "      <th>1</th>\n",
       "      <td>2</td>\n",
       "      <td>115712</td>\n",
       "      <td>True</td>\n",
       "      <td>Tue Oct 31 22:11:45 +0000 2017</td>\n",
       "      <td>@sprintcare and how do you propose we do that</td>\n",
       "      <td>NaN</td>\n",
       "      <td>1.0</td>\n",
       "    </tr>\n",
       "    <tr>\n",
       "      <th>2</th>\n",
       "      <td>3</td>\n",
       "      <td>115712</td>\n",
       "      <td>True</td>\n",
       "      <td>Tue Oct 31 22:08:27 +0000 2017</td>\n",
       "      <td>@sprintcare I have sent several private messag...</td>\n",
       "      <td>1</td>\n",
       "      <td>4.0</td>\n",
       "    </tr>\n",
       "    <tr>\n",
       "      <th>3</th>\n",
       "      <td>4</td>\n",
       "      <td>sprintcare</td>\n",
       "      <td>False</td>\n",
       "      <td>Tue Oct 31 21:54:49 +0000 2017</td>\n",
       "      <td>@115712 Please send us a Private Message so th...</td>\n",
       "      <td>3</td>\n",
       "      <td>5.0</td>\n",
       "    </tr>\n",
       "    <tr>\n",
       "      <th>4</th>\n",
       "      <td>5</td>\n",
       "      <td>115712</td>\n",
       "      <td>True</td>\n",
       "      <td>Tue Oct 31 21:49:35 +0000 2017</td>\n",
       "      <td>@sprintcare I did.</td>\n",
       "      <td>4</td>\n",
       "      <td>6.0</td>\n",
       "    </tr>\n",
       "  </tbody>\n",
       "</table>\n",
       "</div>"
      ],
      "text/plain": [
       "   tweet_id   author_id  inbound                      created_at  \\\n",
       "0         1  sprintcare    False  Tue Oct 31 22:10:47 +0000 2017   \n",
       "1         2      115712     True  Tue Oct 31 22:11:45 +0000 2017   \n",
       "2         3      115712     True  Tue Oct 31 22:08:27 +0000 2017   \n",
       "3         4  sprintcare    False  Tue Oct 31 21:54:49 +0000 2017   \n",
       "4         5      115712     True  Tue Oct 31 21:49:35 +0000 2017   \n",
       "\n",
       "                                                text response_tweet_id  \\\n",
       "0  @115712 I understand. I would like to assist y...                 2   \n",
       "1      @sprintcare and how do you propose we do that               NaN   \n",
       "2  @sprintcare I have sent several private messag...                 1   \n",
       "3  @115712 Please send us a Private Message so th...                 3   \n",
       "4                                 @sprintcare I did.                 4   \n",
       "\n",
       "   in_response_to_tweet_id  \n",
       "0                      3.0  \n",
       "1                      1.0  \n",
       "2                      4.0  \n",
       "3                      5.0  \n",
       "4                      6.0  "
      ]
     },
     "execution_count": 4,
     "metadata": {},
     "output_type": "execute_result"
    }
   ],
   "source": [
    "df_customer_support = pd.read_csv(\n",
    "    os.path.join(customer_support_path, 'twcs.csv')\n",
    ")\n",
    "\n",
    "df_customer_support.head()"
   ]
  },
  {
   "cell_type": "markdown",
   "metadata": {},
   "source": [
    "# Transform\n",
    "Considering that each thread starts with an tweet without a in_response_to_tweet_id (NaN), the thread_id should start in this row and the previous rows will be the same thread"
   ]
  },
  {
   "cell_type": "code",
   "execution_count": 5,
   "metadata": {},
   "outputs": [
    {
     "name": "stderr",
     "output_type": "stream",
     "text": [
      "/tmp/ipykernel_403062/1476131849.py:20: FutureWarning: Series.fillna with 'method' is deprecated and will raise in a future version. Use obj.ffill() or obj.bfill() instead.\n",
      "  df_customer_support['thread_id'] = df_customer_support['thread_id'].fillna(method='backfill')\n",
      "/tmp/ipykernel_403062/1476131849.py:20: FutureWarning: Downcasting object dtype arrays on .fillna, .ffill, .bfill is deprecated and will change in a future version. Call result.infer_objects(copy=False) instead. To opt-in to the future behavior, set `pd.set_option('future.no_silent_downcasting', True)`\n",
      "  df_customer_support['thread_id'] = df_customer_support['thread_id'].fillna(method='backfill')\n"
     ]
    }
   ],
   "source": [
    "# Convert created_at column to datetime\n",
    "df_customer_support['created_at'] = pd.to_datetime(\n",
    "    df_customer_support['created_at'], format='%a %b %d %H:%M:%S %z %Y'\n",
    ")\n",
    "\n",
    "# Create thread_start column to identify if it is the first tweet of a thread or not\n",
    "df_customer_support.loc[\n",
    "    df_customer_support['in_response_to_tweet_id'].isna(),\n",
    "    'thread_start'\n",
    "] = True\n",
    "\n",
    "# Set the date the thread start date\n",
    "df_customer_support.loc[\n",
    "    df_customer_support['in_response_to_tweet_id'].isna(),\n",
    "    'thread_start_date'\n",
    "] = df_customer_support['created_at'].dt.date\n",
    "\n",
    "# Set the thread_id\n",
    "df_customer_support['thread_id'] = df_customer_support['thread_start'].cumsum()\n",
    "df_customer_support['thread_id'] = df_customer_support['thread_id'].fillna(method='backfill')"
   ]
  },
  {
   "cell_type": "code",
   "execution_count": 6,
   "metadata": {},
   "outputs": [],
   "source": [
    "# Identify the company involved in each thread\n",
    "df_companies = df_customer_support.loc[\n",
    "    ~df_customer_support['author_id'].str.contains(r'[0-9]{4,6}'),\n",
    "    ['author_id', 'thread_id']\n",
    "].drop_duplicates('thread_id')\n",
    "\n",
    "# Rename column\n",
    "df_companies.rename({'author_id': 'company'}, axis=1, inplace=True)\n",
    "\n",
    "# Merge with df_customer_support\n",
    "df_customer_support = df_customer_support.merge(df_companies, on='thread_id', how='left')"
   ]
  },
  {
   "cell_type": "code",
   "execution_count": 7,
   "metadata": {},
   "outputs": [],
   "source": [
    "# Define parameters for aggregate function\n",
    "agg_params = {\n",
    "    'tweet_id': 'count',\n",
    "    'created_at': ['max', 'min']\n",
    "}\n",
    "\n",
    "# Group by thread to count tweets and calculate the thread's duration\n",
    "df_threads = (\n",
    "    df_customer_support\n",
    "    .groupby('thread_id', as_index=False)\n",
    "    .agg(agg_params)\n",
    ")\n",
    "\n",
    "# Rename columns\n",
    "df_threads.columns = ['thread_id', 'n_tweets', 'ended_at', 'started_at']\n",
    "\n",
    "# Calculate the duration of each thread\n",
    "df_threads['duration'] = (\n",
    "    df_threads['ended_at'] - df_threads['started_at']\n",
    ").dt.total_seconds().div(60).astype(int)\n",
    "\n",
    "# Merge with df_customer_support\n",
    "df_customer_support = df_customer_support.merge(df_threads, on='thread_id', how='left')"
   ]
  },
  {
   "cell_type": "code",
   "execution_count": 8,
   "metadata": {},
   "outputs": [],
   "source": [
    "# Sort values to join texts in the correct order\n",
    "df_customer_support.sort_values(['thread_id', 'created_at'])\n",
    "\n",
    "# Define parameters for aggregate function\n",
    "agg_func = {\n",
    "    'thread_id': 'count',\n",
    "    'n_tweets': ['sum', 'mean'],\n",
    "    'duration': 'mean',\n",
    "    'text': ' '.join\n",
    "}\n",
    "\n",
    "# Group by company and thread start date to compute\n",
    "# number of threads, tweets, duration and join tweets text\n",
    "df_customer_support_result = (\n",
    "    df_customer_support\n",
    "    .groupby(['company', 'thread_start_date'], as_index=False)\n",
    "    .agg(agg_func)\n",
    ")\n",
    "\n",
    "# Rename columns\n",
    "df_customer_support_result.columns = ['company', 'thread_start_date', 'n_threads', 'n_tweets', 'avg_tweets_per_thread', 'avg_duration_per_thread', 'text']"
   ]
  },
  {
   "cell_type": "markdown",
   "metadata": {},
   "source": [
    "# Load"
   ]
  },
  {
   "cell_type": "code",
   "execution_count": 9,
   "metadata": {},
   "outputs": [],
   "source": [
    "df_customer_support_result.to_csv(\n",
    "    os.path.join(\n",
    "        os.path.abspath('../'),\n",
    "        'data',\n",
    "        'processed',\n",
    "        'customer_support_on_twitter.csv'\n",
    "    )\n",
    ")"
   ]
  }
 ],
 "metadata": {
  "kernelspec": {
   "display_name": "stocks_vs_behavior",
   "language": "python",
   "name": "python3"
  },
  "language_info": {
   "codemirror_mode": {
    "name": "ipython",
    "version": 3
   },
   "file_extension": ".py",
   "mimetype": "text/x-python",
   "name": "python",
   "nbconvert_exporter": "python",
   "pygments_lexer": "ipython3",
   "version": "3.10.6"
  }
 },
 "nbformat": 4,
 "nbformat_minor": 2
}
